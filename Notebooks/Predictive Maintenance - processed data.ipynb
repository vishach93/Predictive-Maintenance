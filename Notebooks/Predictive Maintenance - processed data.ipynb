{
 "cells": [
  {
   "cell_type": "markdown",
   "id": "e7aee16d",
   "metadata": {},
   "source": [
    "### Importing Dataset & required Libraries"
   ]
  },
  {
   "cell_type": "code",
   "execution_count": 253,
   "id": "470b4652",
   "metadata": {},
   "outputs": [],
   "source": [
    "%matplotlib inline\n",
    "import numpy as np\n",
    "import pandas as pd\n",
    "import seaborn as sns\n",
    "import warnings\n",
    "warnings.filterwarnings('ignore')\n",
    "from sklearn import preprocessing as scale\n",
    "import matplotlib.pyplot as plt\n",
    "from scipy import stats\n",
    "from sklearn.utils import resample\n",
    "from sklearn.model_selection import train_test_split\n",
    "from sklearn.naive_bayes import GaussianNB\n",
    "from sklearn.metrics import accuracy_score,recall_score, confusion_matrix, roc_curve, average_precision_score, precision_recall_curve\n",
    "from sklearn.neural_network import MLPClassifier\n",
    "from sklearn.svm import SVC, LinearSVC\n",
    "from sklearn.ensemble import RandomForestClassifier, AdaBoostClassifier\n",
    "from sklearn.tree import DecisionTreeClassifier\n",
    "from sklearn.linear_model import LogisticRegression\n",
    "from sklearn.calibration import calibration_curve\n",
    "from sklearn.metrics import roc_auc_score as AUC"
   ]
  },
  {
   "cell_type": "code",
   "execution_count": 254,
   "id": "475f8f39",
   "metadata": {},
   "outputs": [],
   "source": [
    "df = pd.read_csv('Maintenance.csv')"
   ]
  },
  {
   "cell_type": "markdown",
   "id": "443e48e9",
   "metadata": {},
   "source": [
    "### EDA"
   ]
  },
  {
   "cell_type": "code",
   "execution_count": 255,
   "id": "ba862002",
   "metadata": {},
   "outputs": [
    {
     "data": {
      "text/plain": [
       "(10000, 14)"
      ]
     },
     "execution_count": 255,
     "metadata": {},
     "output_type": "execute_result"
    }
   ],
   "source": [
    "df.shape"
   ]
  },
  {
   "cell_type": "code",
   "execution_count": 256,
   "id": "51d4ddf3",
   "metadata": {},
   "outputs": [
    {
     "name": "stdout",
     "output_type": "stream",
     "text": [
      "<class 'pandas.core.frame.DataFrame'>\n",
      "RangeIndex: 10000 entries, 0 to 9999\n",
      "Data columns (total 14 columns):\n",
      " #   Column                   Non-Null Count  Dtype  \n",
      "---  ------                   --------------  -----  \n",
      " 0   UDI                      10000 non-null  int64  \n",
      " 1   Product ID               10000 non-null  object \n",
      " 2   Type                     10000 non-null  object \n",
      " 3   Air temperature [K]      10000 non-null  float64\n",
      " 4   Process temperature [K]  10000 non-null  float64\n",
      " 5   Rotational speed [rpm]   10000 non-null  int64  \n",
      " 6   Torque [Nm]              10000 non-null  float64\n",
      " 7   Tool wear [min]          10000 non-null  int64  \n",
      " 8   Machine failure          10000 non-null  int64  \n",
      " 9   TWF                      10000 non-null  int64  \n",
      " 10  HDF                      10000 non-null  int64  \n",
      " 11  PWF                      10000 non-null  int64  \n",
      " 12  OSF                      10000 non-null  int64  \n",
      " 13  RNF                      10000 non-null  int64  \n",
      "dtypes: float64(3), int64(9), object(2)\n",
      "memory usage: 1.1+ MB\n"
     ]
    }
   ],
   "source": [
    "df.info()"
   ]
  },
  {
   "cell_type": "code",
   "execution_count": 257,
   "id": "08245c13",
   "metadata": {},
   "outputs": [
    {
     "data": {
      "text/plain": [
       "UDI                        0\n",
       "Product ID                 0\n",
       "Type                       0\n",
       "Air temperature [K]        0\n",
       "Process temperature [K]    0\n",
       "Rotational speed [rpm]     0\n",
       "Torque [Nm]                0\n",
       "Tool wear [min]            0\n",
       "Machine failure            0\n",
       "TWF                        0\n",
       "HDF                        0\n",
       "PWF                        0\n",
       "OSF                        0\n",
       "RNF                        0\n",
       "dtype: int64"
      ]
     },
     "execution_count": 257,
     "metadata": {},
     "output_type": "execute_result"
    }
   ],
   "source": [
    "#null values\n",
    "df.isnull().sum()"
   ]
  },
  {
   "cell_type": "code",
   "execution_count": 258,
   "id": "1b90b56e",
   "metadata": {},
   "outputs": [
    {
     "data": {
      "text/html": [
       "<div>\n",
       "<style scoped>\n",
       "    .dataframe tbody tr th:only-of-type {\n",
       "        vertical-align: middle;\n",
       "    }\n",
       "\n",
       "    .dataframe tbody tr th {\n",
       "        vertical-align: top;\n",
       "    }\n",
       "\n",
       "    .dataframe thead th {\n",
       "        text-align: right;\n",
       "    }\n",
       "</style>\n",
       "<table border=\"1\" class=\"dataframe\">\n",
       "  <thead>\n",
       "    <tr style=\"text-align: right;\">\n",
       "      <th></th>\n",
       "      <th>UDI</th>\n",
       "      <th>Air temperature [K]</th>\n",
       "      <th>Process temperature [K]</th>\n",
       "      <th>Rotational speed [rpm]</th>\n",
       "      <th>Torque [Nm]</th>\n",
       "      <th>Tool wear [min]</th>\n",
       "      <th>Machine failure</th>\n",
       "      <th>TWF</th>\n",
       "      <th>HDF</th>\n",
       "      <th>PWF</th>\n",
       "      <th>OSF</th>\n",
       "      <th>RNF</th>\n",
       "    </tr>\n",
       "  </thead>\n",
       "  <tbody>\n",
       "    <tr>\n",
       "      <th>count</th>\n",
       "      <td>10000.00000</td>\n",
       "      <td>10000.000000</td>\n",
       "      <td>10000.000000</td>\n",
       "      <td>10000.000000</td>\n",
       "      <td>10000.000000</td>\n",
       "      <td>10000.000000</td>\n",
       "      <td>10000.000000</td>\n",
       "      <td>10000.000000</td>\n",
       "      <td>10000.000000</td>\n",
       "      <td>10000.000000</td>\n",
       "      <td>10000.000000</td>\n",
       "      <td>10000.00000</td>\n",
       "    </tr>\n",
       "    <tr>\n",
       "      <th>mean</th>\n",
       "      <td>5000.50000</td>\n",
       "      <td>300.004930</td>\n",
       "      <td>310.005560</td>\n",
       "      <td>1538.776100</td>\n",
       "      <td>39.986910</td>\n",
       "      <td>107.951000</td>\n",
       "      <td>0.033900</td>\n",
       "      <td>0.004600</td>\n",
       "      <td>0.011500</td>\n",
       "      <td>0.009500</td>\n",
       "      <td>0.009800</td>\n",
       "      <td>0.00190</td>\n",
       "    </tr>\n",
       "    <tr>\n",
       "      <th>std</th>\n",
       "      <td>2886.89568</td>\n",
       "      <td>2.000259</td>\n",
       "      <td>1.483734</td>\n",
       "      <td>179.284096</td>\n",
       "      <td>9.968934</td>\n",
       "      <td>63.654147</td>\n",
       "      <td>0.180981</td>\n",
       "      <td>0.067671</td>\n",
       "      <td>0.106625</td>\n",
       "      <td>0.097009</td>\n",
       "      <td>0.098514</td>\n",
       "      <td>0.04355</td>\n",
       "    </tr>\n",
       "    <tr>\n",
       "      <th>min</th>\n",
       "      <td>1.00000</td>\n",
       "      <td>295.300000</td>\n",
       "      <td>305.700000</td>\n",
       "      <td>1168.000000</td>\n",
       "      <td>3.800000</td>\n",
       "      <td>0.000000</td>\n",
       "      <td>0.000000</td>\n",
       "      <td>0.000000</td>\n",
       "      <td>0.000000</td>\n",
       "      <td>0.000000</td>\n",
       "      <td>0.000000</td>\n",
       "      <td>0.00000</td>\n",
       "    </tr>\n",
       "    <tr>\n",
       "      <th>25%</th>\n",
       "      <td>2500.75000</td>\n",
       "      <td>298.300000</td>\n",
       "      <td>308.800000</td>\n",
       "      <td>1423.000000</td>\n",
       "      <td>33.200000</td>\n",
       "      <td>53.000000</td>\n",
       "      <td>0.000000</td>\n",
       "      <td>0.000000</td>\n",
       "      <td>0.000000</td>\n",
       "      <td>0.000000</td>\n",
       "      <td>0.000000</td>\n",
       "      <td>0.00000</td>\n",
       "    </tr>\n",
       "    <tr>\n",
       "      <th>50%</th>\n",
       "      <td>5000.50000</td>\n",
       "      <td>300.100000</td>\n",
       "      <td>310.100000</td>\n",
       "      <td>1503.000000</td>\n",
       "      <td>40.100000</td>\n",
       "      <td>108.000000</td>\n",
       "      <td>0.000000</td>\n",
       "      <td>0.000000</td>\n",
       "      <td>0.000000</td>\n",
       "      <td>0.000000</td>\n",
       "      <td>0.000000</td>\n",
       "      <td>0.00000</td>\n",
       "    </tr>\n",
       "    <tr>\n",
       "      <th>75%</th>\n",
       "      <td>7500.25000</td>\n",
       "      <td>301.500000</td>\n",
       "      <td>311.100000</td>\n",
       "      <td>1612.000000</td>\n",
       "      <td>46.800000</td>\n",
       "      <td>162.000000</td>\n",
       "      <td>0.000000</td>\n",
       "      <td>0.000000</td>\n",
       "      <td>0.000000</td>\n",
       "      <td>0.000000</td>\n",
       "      <td>0.000000</td>\n",
       "      <td>0.00000</td>\n",
       "    </tr>\n",
       "    <tr>\n",
       "      <th>max</th>\n",
       "      <td>10000.00000</td>\n",
       "      <td>304.500000</td>\n",
       "      <td>313.800000</td>\n",
       "      <td>2886.000000</td>\n",
       "      <td>76.600000</td>\n",
       "      <td>253.000000</td>\n",
       "      <td>1.000000</td>\n",
       "      <td>1.000000</td>\n",
       "      <td>1.000000</td>\n",
       "      <td>1.000000</td>\n",
       "      <td>1.000000</td>\n",
       "      <td>1.00000</td>\n",
       "    </tr>\n",
       "  </tbody>\n",
       "</table>\n",
       "</div>"
      ],
      "text/plain": [
       "               UDI  Air temperature [K]  Process temperature [K]  \\\n",
       "count  10000.00000         10000.000000             10000.000000   \n",
       "mean    5000.50000           300.004930               310.005560   \n",
       "std     2886.89568             2.000259                 1.483734   \n",
       "min        1.00000           295.300000               305.700000   \n",
       "25%     2500.75000           298.300000               308.800000   \n",
       "50%     5000.50000           300.100000               310.100000   \n",
       "75%     7500.25000           301.500000               311.100000   \n",
       "max    10000.00000           304.500000               313.800000   \n",
       "\n",
       "       Rotational speed [rpm]   Torque [Nm]  Tool wear [min]  Machine failure  \\\n",
       "count            10000.000000  10000.000000     10000.000000     10000.000000   \n",
       "mean              1538.776100     39.986910       107.951000         0.033900   \n",
       "std                179.284096      9.968934        63.654147         0.180981   \n",
       "min               1168.000000      3.800000         0.000000         0.000000   \n",
       "25%               1423.000000     33.200000        53.000000         0.000000   \n",
       "50%               1503.000000     40.100000       108.000000         0.000000   \n",
       "75%               1612.000000     46.800000       162.000000         0.000000   \n",
       "max               2886.000000     76.600000       253.000000         1.000000   \n",
       "\n",
       "                TWF           HDF           PWF           OSF          RNF  \n",
       "count  10000.000000  10000.000000  10000.000000  10000.000000  10000.00000  \n",
       "mean       0.004600      0.011500      0.009500      0.009800      0.00190  \n",
       "std        0.067671      0.106625      0.097009      0.098514      0.04355  \n",
       "min        0.000000      0.000000      0.000000      0.000000      0.00000  \n",
       "25%        0.000000      0.000000      0.000000      0.000000      0.00000  \n",
       "50%        0.000000      0.000000      0.000000      0.000000      0.00000  \n",
       "75%        0.000000      0.000000      0.000000      0.000000      0.00000  \n",
       "max        1.000000      1.000000      1.000000      1.000000      1.00000  "
      ]
     },
     "execution_count": 258,
     "metadata": {},
     "output_type": "execute_result"
    }
   ],
   "source": [
    "df.describe()"
   ]
  },
  {
   "cell_type": "code",
   "execution_count": 259,
   "id": "267ad91b",
   "metadata": {},
   "outputs": [
    {
     "name": "stdout",
     "output_type": "stream",
     "text": [
      "Number of duplicate rows: 0\n"
     ]
    }
   ],
   "source": [
    "#duplicates\n",
    "dups = df.duplicated()\n",
    "print('Number of duplicate rows: %d' % dups.sum())"
   ]
  },
  {
   "cell_type": "code",
   "execution_count": 260,
   "id": "02679eae",
   "metadata": {},
   "outputs": [
    {
     "data": {
      "text/plain": [
       "Text(0.5, 1.05, 'Pearson correlation of Features')"
      ]
     },
     "execution_count": 260,
     "metadata": {},
     "output_type": "execute_result"
    },
    {
     "data": {
      "image/png": "[encoded data removed]",
      "text/plain": [
       "<Figure size 1080x1296 with 2 Axes>"
      ]
     },
     "metadata": {
      "needs_background": "light"
     },
     "output_type": "display_data"
    }
   ],
   "source": [
    "#Heatmap for Corelation\n",
    "corr = df.corr()\n",
    "\n",
    "f, ax = plt.subplots(figsize=(15,18))\n",
    "\n",
    "cmap = sns.diverging_palette(220, 10, as_cmap=True)\n",
    "\n",
    "_ = sns.heatmap(corr, cmap=\"YlGn\", square=True, ax=ax, annot=True, linewidth=0.1)\n",
    "\n",
    "plt.title(\"Pearson correlation of Features\", y=1.05, size=15)"
   ]
  },
  {
   "cell_type": "code",
   "execution_count": 261,
   "id": "29b5f01c",
   "metadata": {},
   "outputs": [
    {
     "data": {
      "text/html": [
       "<div>\n",
       "<style scoped>\n",
       "    .dataframe tbody tr th:only-of-type {\n",
       "        vertical-align: middle;\n",
       "    }\n",
       "\n",
       "    .dataframe tbody tr th {\n",
       "        vertical-align: top;\n",
       "    }\n",
       "\n",
       "    .dataframe thead th {\n",
       "        text-align: right;\n",
       "    }\n",
       "</style>\n",
       "<table border=\"1\" class=\"dataframe\">\n",
       "  <thead>\n",
       "    <tr style=\"text-align: right;\">\n",
       "      <th></th>\n",
       "      <th>Machine failure</th>\n",
       "      <th>TWF</th>\n",
       "      <th>HDF</th>\n",
       "      <th>PWF</th>\n",
       "      <th>OSF</th>\n",
       "      <th>RNF</th>\n",
       "    </tr>\n",
       "  </thead>\n",
       "  <tbody>\n",
       "    <tr>\n",
       "      <th>0</th>\n",
       "      <td>9661</td>\n",
       "      <td>9954</td>\n",
       "      <td>9885</td>\n",
       "      <td>9905</td>\n",
       "      <td>9902</td>\n",
       "      <td>9981</td>\n",
       "    </tr>\n",
       "    <tr>\n",
       "      <th>1</th>\n",
       "      <td>339</td>\n",
       "      <td>46</td>\n",
       "      <td>115</td>\n",
       "      <td>95</td>\n",
       "      <td>98</td>\n",
       "      <td>19</td>\n",
       "    </tr>\n",
       "  </tbody>\n",
       "</table>\n",
       "</div>"
      ],
      "text/plain": [
       "   Machine failure   TWF   HDF   PWF   OSF   RNF\n",
       "0             9661  9954  9885  9905  9902  9981\n",
       "1              339    46   115    95    98    19"
      ]
     },
     "execution_count": 261,
     "metadata": {},
     "output_type": "execute_result"
    }
   ],
   "source": [
    "#machine failure counts with subgroups\n",
    "df[['Machine failure','TWF', 'HDF', 'PWF', 'OSF', 'RNF']].apply(pd.value_counts)"
   ]
  },
  {
   "cell_type": "code",
   "execution_count": 262,
   "id": "71878816",
   "metadata": {},
   "outputs": [
    {
     "data": {
      "image/png": "[encoded data removed]",
      "text/plain": [
       "<Figure size 360x360 with 1 Axes>"
      ]
     },
     "metadata": {},
     "output_type": "display_data"
    }
   ],
   "source": [
    "#pie for total machine failures\n",
    "df['Machine failure'].value_counts().plot(kind='pie', figsize=(5,5), autopct='%1.1f%%')\n",
    "plt.show()"
   ]
  },
  {
   "cell_type": "code",
   "execution_count": 263,
   "id": "cb8c7b57",
   "metadata": {},
   "outputs": [],
   "source": [
    "#pie for all the subgroups failure contribution\n",
    "Pie={'TWF': df.TWF.sum(), 'HDF':df.HDF.sum(), 'PWF':df.PWF.sum(), 'OSF': df.OSF.sum(), 'RNF': df.RNF.sum()}"
   ]
  },
  {
   "cell_type": "code",
   "execution_count": 264,
   "id": "1b72a093",
   "metadata": {},
   "outputs": [
    {
     "data": {
      "image/png": "[encoded data removed]",
      "text/plain": [
       "<Figure size 432x288 with 1 Axes>"
      ]
     },
     "metadata": {},
     "output_type": "display_data"
    }
   ],
   "source": [
    "plt.pie(Pie.values(),labels=Pie.keys(),autopct='%1.1f%%');"
   ]
  },
  {
   "cell_type": "code",
   "execution_count": 265,
   "id": "4d0c91c0",
   "metadata": {},
   "outputs": [
    {
     "data": {
      "text/plain": [
       "L    6000\n",
       "M    2997\n",
       "H    1003\n",
       "Name: Type, dtype: int64"
      ]
     },
     "execution_count": 265,
     "metadata": {},
     "output_type": "execute_result"
    }
   ],
   "source": [
    "#types of machine quality\n",
    "df['Type'].value_counts()"
   ]
  },
  {
   "cell_type": "code",
   "execution_count": 266,
   "id": "8a3f11c0",
   "metadata": {},
   "outputs": [
    {
     "data": {
      "text/plain": [
       "<AxesSubplot:>"
      ]
     },
     "execution_count": 266,
     "metadata": {},
     "output_type": "execute_result"
    },
    {
     "data": {
      "image/png": "[encoded data removed]",
      "text/plain": [
       "<Figure size 432x288 with 1 Axes>"
      ]
     },
     "metadata": {
      "needs_background": "light"
     },
     "output_type": "display_data"
    }
   ],
   "source": [
    "#failure with respect to Type\n",
    "df[df['Machine failure'] == 1][[ 'Type']].apply(pd.value_counts).plot(kind='bar')"
   ]
  },
  {
   "cell_type": "markdown",
   "id": "d0197e24",
   "metadata": {},
   "source": [
    "+ Lowest Quality type has the most failures\n",
    "+ Followed by Medium and High"
   ]
  },
  {
   "cell_type": "markdown",
   "id": "60e20b24",
   "metadata": {},
   "source": [
    "### Feature Engineering - Label Encoder"
   ]
  },
  {
   "cell_type": "code",
   "execution_count": 267,
   "id": "51d9a6bf",
   "metadata": {},
   "outputs": [],
   "source": [
    "#label Encoding type column\n",
    "from sklearn.preprocessing import LabelEncoder\n",
    "label= LabelEncoder()\n",
    "df['Type']= label.fit_transform(df['Type'])"
   ]
  },
  {
   "cell_type": "markdown",
   "id": "63fd6841",
   "metadata": {},
   "source": [
    "### Detection of outliers - (Isolation Forest) "
   ]
  },
  {
   "cell_type": "code",
   "execution_count": 268,
   "id": "70782fd9",
   "metadata": {},
   "outputs": [],
   "source": [
    "from sklearn.ensemble import IsolationForest"
   ]
  },
  {
   "cell_type": "code",
   "execution_count": 269,
   "id": "e91b9479",
   "metadata": {},
   "outputs": [
    {
     "data": {
      "text/plain": [
       "IsolationForest(contamination=0.2)"
      ]
     },
     "execution_count": 269,
     "metadata": {},
     "output_type": "execute_result"
    }
   ],
   "source": [
    "outlier_model=IsolationForest(n_estimators=100,max_samples='auto',contamination=float(0.2))\n",
    "\n",
    "outlier_model.fit(df[['Air temperature [K]','Process temperature [K]','Rotational speed [rpm]',\n",
    "           'Torque [Nm]','Tool wear [min]']])\n"
   ]
  },
  {
   "cell_type": "code",
   "execution_count": 270,
   "id": "dc55e3c1",
   "metadata": {},
   "outputs": [
    {
     "data": {
      "text/html": [
       "<div>\n",
       "<style scoped>\n",
       "    .dataframe tbody tr th:only-of-type {\n",
       "        vertical-align: middle;\n",
       "    }\n",
       "\n",
       "    .dataframe tbody tr th {\n",
       "        vertical-align: top;\n",
       "    }\n",
       "\n",
       "    .dataframe thead th {\n",
       "        text-align: right;\n",
       "    }\n",
       "</style>\n",
       "<table border=\"1\" class=\"dataframe\">\n",
       "  <thead>\n",
       "    <tr style=\"text-align: right;\">\n",
       "      <th></th>\n",
       "      <th>UDI</th>\n",
       "      <th>Product ID</th>\n",
       "      <th>Type</th>\n",
       "      <th>Air temperature [K]</th>\n",
       "      <th>Process temperature [K]</th>\n",
       "      <th>Rotational speed [rpm]</th>\n",
       "      <th>Torque [Nm]</th>\n",
       "      <th>Tool wear [min]</th>\n",
       "      <th>Machine failure</th>\n",
       "      <th>TWF</th>\n",
       "      <th>HDF</th>\n",
       "      <th>PWF</th>\n",
       "      <th>OSF</th>\n",
       "      <th>RNF</th>\n",
       "      <th>scores</th>\n",
       "      <th>anomaly_score</th>\n",
       "    </tr>\n",
       "  </thead>\n",
       "  <tbody>\n",
       "    <tr>\n",
       "      <th>2</th>\n",
       "      <td>3</td>\n",
       "      <td>L47182</td>\n",
       "      <td>1</td>\n",
       "      <td>298.1</td>\n",
       "      <td>308.5</td>\n",
       "      <td>1498</td>\n",
       "      <td>49.4</td>\n",
       "      <td>5</td>\n",
       "      <td>0</td>\n",
       "      <td>0</td>\n",
       "      <td>0</td>\n",
       "      <td>0</td>\n",
       "      <td>0</td>\n",
       "      <td>0</td>\n",
       "      <td>-0.000861</td>\n",
       "      <td>-1</td>\n",
       "    </tr>\n",
       "    <tr>\n",
       "      <th>14</th>\n",
       "      <td>15</td>\n",
       "      <td>L47194</td>\n",
       "      <td>1</td>\n",
       "      <td>298.6</td>\n",
       "      <td>309.2</td>\n",
       "      <td>2035</td>\n",
       "      <td>19.6</td>\n",
       "      <td>40</td>\n",
       "      <td>0</td>\n",
       "      <td>0</td>\n",
       "      <td>0</td>\n",
       "      <td>0</td>\n",
       "      <td>0</td>\n",
       "      <td>0</td>\n",
       "      <td>-0.062314</td>\n",
       "      <td>-1</td>\n",
       "    </tr>\n",
       "    <tr>\n",
       "      <th>50</th>\n",
       "      <td>51</td>\n",
       "      <td>L47230</td>\n",
       "      <td>1</td>\n",
       "      <td>298.9</td>\n",
       "      <td>309.1</td>\n",
       "      <td>2861</td>\n",
       "      <td>4.6</td>\n",
       "      <td>143</td>\n",
       "      <td>1</td>\n",
       "      <td>0</td>\n",
       "      <td>0</td>\n",
       "      <td>1</td>\n",
       "      <td>0</td>\n",
       "      <td>0</td>\n",
       "      <td>-0.150257</td>\n",
       "      <td>-1</td>\n",
       "    </tr>\n",
       "    <tr>\n",
       "      <th>69</th>\n",
       "      <td>70</td>\n",
       "      <td>L47249</td>\n",
       "      <td>1</td>\n",
       "      <td>298.9</td>\n",
       "      <td>309.0</td>\n",
       "      <td>1410</td>\n",
       "      <td>65.7</td>\n",
       "      <td>191</td>\n",
       "      <td>1</td>\n",
       "      <td>0</td>\n",
       "      <td>0</td>\n",
       "      <td>1</td>\n",
       "      <td>1</td>\n",
       "      <td>0</td>\n",
       "      <td>-0.024193</td>\n",
       "      <td>-1</td>\n",
       "    </tr>\n",
       "    <tr>\n",
       "      <th>70</th>\n",
       "      <td>71</td>\n",
       "      <td>M14930</td>\n",
       "      <td>2</td>\n",
       "      <td>298.9</td>\n",
       "      <td>309.0</td>\n",
       "      <td>1924</td>\n",
       "      <td>22.6</td>\n",
       "      <td>193</td>\n",
       "      <td>0</td>\n",
       "      <td>0</td>\n",
       "      <td>0</td>\n",
       "      <td>0</td>\n",
       "      <td>0</td>\n",
       "      <td>0</td>\n",
       "      <td>-0.020572</td>\n",
       "      <td>-1</td>\n",
       "    </tr>\n",
       "    <tr>\n",
       "      <th>...</th>\n",
       "      <td>...</td>\n",
       "      <td>...</td>\n",
       "      <td>...</td>\n",
       "      <td>...</td>\n",
       "      <td>...</td>\n",
       "      <td>...</td>\n",
       "      <td>...</td>\n",
       "      <td>...</td>\n",
       "      <td>...</td>\n",
       "      <td>...</td>\n",
       "      <td>...</td>\n",
       "      <td>...</td>\n",
       "      <td>...</td>\n",
       "      <td>...</td>\n",
       "      <td>...</td>\n",
       "      <td>...</td>\n",
       "    </tr>\n",
       "    <tr>\n",
       "      <th>9926</th>\n",
       "      <td>9927</td>\n",
       "      <td>M24786</td>\n",
       "      <td>2</td>\n",
       "      <td>298.5</td>\n",
       "      <td>308.6</td>\n",
       "      <td>1897</td>\n",
       "      <td>20.2</td>\n",
       "      <td>50</td>\n",
       "      <td>0</td>\n",
       "      <td>0</td>\n",
       "      <td>0</td>\n",
       "      <td>0</td>\n",
       "      <td>0</td>\n",
       "      <td>0</td>\n",
       "      <td>-0.027313</td>\n",
       "      <td>-1</td>\n",
       "    </tr>\n",
       "    <tr>\n",
       "      <th>9939</th>\n",
       "      <td>9940</td>\n",
       "      <td>H39353</td>\n",
       "      <td>0</td>\n",
       "      <td>298.3</td>\n",
       "      <td>308.1</td>\n",
       "      <td>2636</td>\n",
       "      <td>12.8</td>\n",
       "      <td>84</td>\n",
       "      <td>0</td>\n",
       "      <td>0</td>\n",
       "      <td>0</td>\n",
       "      <td>0</td>\n",
       "      <td>0</td>\n",
       "      <td>0</td>\n",
       "      <td>-0.164540</td>\n",
       "      <td>-1</td>\n",
       "    </tr>\n",
       "    <tr>\n",
       "      <th>9974</th>\n",
       "      <td>9975</td>\n",
       "      <td>L57154</td>\n",
       "      <td>1</td>\n",
       "      <td>298.6</td>\n",
       "      <td>308.2</td>\n",
       "      <td>1361</td>\n",
       "      <td>68.2</td>\n",
       "      <td>172</td>\n",
       "      <td>1</td>\n",
       "      <td>0</td>\n",
       "      <td>0</td>\n",
       "      <td>1</td>\n",
       "      <td>1</td>\n",
       "      <td>0</td>\n",
       "      <td>-0.040465</td>\n",
       "      <td>-1</td>\n",
       "    </tr>\n",
       "    <tr>\n",
       "      <th>9988</th>\n",
       "      <td>9989</td>\n",
       "      <td>L57168</td>\n",
       "      <td>1</td>\n",
       "      <td>298.9</td>\n",
       "      <td>308.6</td>\n",
       "      <td>1771</td>\n",
       "      <td>24.1</td>\n",
       "      <td>213</td>\n",
       "      <td>0</td>\n",
       "      <td>0</td>\n",
       "      <td>0</td>\n",
       "      <td>0</td>\n",
       "      <td>0</td>\n",
       "      <td>0</td>\n",
       "      <td>-0.028472</td>\n",
       "      <td>-1</td>\n",
       "    </tr>\n",
       "    <tr>\n",
       "      <th>9991</th>\n",
       "      <td>9992</td>\n",
       "      <td>M24851</td>\n",
       "      <td>2</td>\n",
       "      <td>298.9</td>\n",
       "      <td>308.4</td>\n",
       "      <td>1827</td>\n",
       "      <td>26.1</td>\n",
       "      <td>5</td>\n",
       "      <td>0</td>\n",
       "      <td>0</td>\n",
       "      <td>0</td>\n",
       "      <td>0</td>\n",
       "      <td>0</td>\n",
       "      <td>0</td>\n",
       "      <td>-0.026822</td>\n",
       "      <td>-1</td>\n",
       "    </tr>\n",
       "  </tbody>\n",
       "</table>\n",
       "<p>2000 rows × 16 columns</p>\n",
       "</div>"
      ],
      "text/plain": [
       "       UDI Product ID  Type  Air temperature [K]  Process temperature [K]  \\\n",
       "2        3     L47182     1                298.1                    308.5   \n",
       "14      15     L47194     1                298.6                    309.2   \n",
       "50      51     L47230     1                298.9                    309.1   \n",
       "69      70     L47249     1                298.9                    309.0   \n",
       "70      71     M14930     2                298.9                    309.0   \n",
       "...    ...        ...   ...                  ...                      ...   \n",
       "9926  9927     M24786     2                298.5                    308.6   \n",
       "9939  9940     H39353     0                298.3                    308.1   \n",
       "9974  9975     L57154     1                298.6                    308.2   \n",
       "9988  9989     L57168     1                298.9                    308.6   \n",
       "9991  9992     M24851     2                298.9                    308.4   \n",
       "\n",
       "      Rotational speed [rpm]  Torque [Nm]  Tool wear [min]  Machine failure  \\\n",
       "2                       1498         49.4                5                0   \n",
       "14                      2035         19.6               40                0   \n",
       "50                      2861          4.6              143                1   \n",
       "69                      1410         65.7              191                1   \n",
       "70                      1924         22.6              193                0   \n",
       "...                      ...          ...              ...              ...   \n",
       "9926                    1897         20.2               50                0   \n",
       "9939                    2636         12.8               84                0   \n",
       "9974                    1361         68.2              172                1   \n",
       "9988                    1771         24.1              213                0   \n",
       "9991                    1827         26.1                5                0   \n",
       "\n",
       "      TWF  HDF  PWF  OSF  RNF    scores  anomaly_score  \n",
       "2       0    0    0    0    0 -0.000861             -1  \n",
       "14      0    0    0    0    0 -0.062314             -1  \n",
       "50      0    0    1    0    0 -0.150257             -1  \n",
       "69      0    0    1    1    0 -0.024193             -1  \n",
       "70      0    0    0    0    0 -0.020572             -1  \n",
       "...   ...  ...  ...  ...  ...       ...            ...  \n",
       "9926    0    0    0    0    0 -0.027313             -1  \n",
       "9939    0    0    0    0    0 -0.164540             -1  \n",
       "9974    0    0    1    1    0 -0.040465             -1  \n",
       "9988    0    0    0    0    0 -0.028472             -1  \n",
       "9991    0    0    0    0    0 -0.026822             -1  \n",
       "\n",
       "[2000 rows x 16 columns]"
      ]
     },
     "execution_count": 270,
     "metadata": {},
     "output_type": "execute_result"
    }
   ],
   "source": [
    "#predicting anomalies\n",
    "df['scores'] = outlier_model.decision_function(df[['Air temperature [K]','Process temperature [K]','Rotational speed [rpm]',\n",
    "           'Torque [Nm]','Tool wear [min]']])\n",
    "\n",
    "df['anomaly_score'] = outlier_model.predict(df[['Air temperature [K]','Process temperature [K]','Rotational speed [rpm]',\n",
    "           'Torque [Nm]','Tool wear [min]']])\n",
    "\n",
    "df[df['anomaly_score']==-1]"
   ]
  },
  {
   "cell_type": "markdown",
   "id": "0dc59257",
   "metadata": {},
   "source": [
    "### Dealing with outliers - Undersampling of majority class outliers "
   ]
  },
  {
   "cell_type": "code",
   "execution_count": 271,
   "id": "66050f70",
   "metadata": {},
   "outputs": [],
   "source": [
    "count = df[df['anomaly_score']==-1]"
   ]
  },
  {
   "cell_type": "code",
   "execution_count": 272,
   "id": "5a9b4735",
   "metadata": {},
   "outputs": [
    {
     "data": {
      "text/html": [
       "<div>\n",
       "<style scoped>\n",
       "    .dataframe tbody tr th:only-of-type {\n",
       "        vertical-align: middle;\n",
       "    }\n",
       "\n",
       "    .dataframe tbody tr th {\n",
       "        vertical-align: top;\n",
       "    }\n",
       "\n",
       "    .dataframe thead th {\n",
       "        text-align: right;\n",
       "    }\n",
       "</style>\n",
       "<table border=\"1\" class=\"dataframe\">\n",
       "  <thead>\n",
       "    <tr style=\"text-align: right;\">\n",
       "      <th></th>\n",
       "      <th>UDI</th>\n",
       "      <th>Product ID</th>\n",
       "      <th>Type</th>\n",
       "      <th>Air temperature [K]</th>\n",
       "      <th>Process temperature [K]</th>\n",
       "      <th>Rotational speed [rpm]</th>\n",
       "      <th>Torque [Nm]</th>\n",
       "      <th>Tool wear [min]</th>\n",
       "      <th>Machine failure</th>\n",
       "      <th>TWF</th>\n",
       "      <th>HDF</th>\n",
       "      <th>PWF</th>\n",
       "      <th>OSF</th>\n",
       "      <th>RNF</th>\n",
       "      <th>scores</th>\n",
       "      <th>anomaly_score</th>\n",
       "    </tr>\n",
       "  </thead>\n",
       "  <tbody>\n",
       "    <tr>\n",
       "      <th>50</th>\n",
       "      <td>51</td>\n",
       "      <td>L47230</td>\n",
       "      <td>1</td>\n",
       "      <td>298.9</td>\n",
       "      <td>309.1</td>\n",
       "      <td>2861</td>\n",
       "      <td>4.6</td>\n",
       "      <td>143</td>\n",
       "      <td>1</td>\n",
       "      <td>0</td>\n",
       "      <td>0</td>\n",
       "      <td>1</td>\n",
       "      <td>0</td>\n",
       "      <td>0</td>\n",
       "      <td>-0.150257</td>\n",
       "      <td>-1</td>\n",
       "    </tr>\n",
       "    <tr>\n",
       "      <th>69</th>\n",
       "      <td>70</td>\n",
       "      <td>L47249</td>\n",
       "      <td>1</td>\n",
       "      <td>298.9</td>\n",
       "      <td>309.0</td>\n",
       "      <td>1410</td>\n",
       "      <td>65.7</td>\n",
       "      <td>191</td>\n",
       "      <td>1</td>\n",
       "      <td>0</td>\n",
       "      <td>0</td>\n",
       "      <td>1</td>\n",
       "      <td>1</td>\n",
       "      <td>0</td>\n",
       "      <td>-0.024193</td>\n",
       "      <td>-1</td>\n",
       "    </tr>\n",
       "    <tr>\n",
       "      <th>160</th>\n",
       "      <td>161</td>\n",
       "      <td>L47340</td>\n",
       "      <td>1</td>\n",
       "      <td>298.4</td>\n",
       "      <td>308.2</td>\n",
       "      <td>1282</td>\n",
       "      <td>60.7</td>\n",
       "      <td>216</td>\n",
       "      <td>1</td>\n",
       "      <td>0</td>\n",
       "      <td>0</td>\n",
       "      <td>0</td>\n",
       "      <td>1</td>\n",
       "      <td>0</td>\n",
       "      <td>-0.066450</td>\n",
       "      <td>-1</td>\n",
       "    </tr>\n",
       "    <tr>\n",
       "      <th>168</th>\n",
       "      <td>169</td>\n",
       "      <td>L47348</td>\n",
       "      <td>1</td>\n",
       "      <td>298.4</td>\n",
       "      <td>308.3</td>\n",
       "      <td>1433</td>\n",
       "      <td>62.3</td>\n",
       "      <td>20</td>\n",
       "      <td>1</td>\n",
       "      <td>0</td>\n",
       "      <td>0</td>\n",
       "      <td>1</td>\n",
       "      <td>0</td>\n",
       "      <td>0</td>\n",
       "      <td>-0.026002</td>\n",
       "      <td>-1</td>\n",
       "    </tr>\n",
       "    <tr>\n",
       "      <th>194</th>\n",
       "      <td>195</td>\n",
       "      <td>M15054</td>\n",
       "      <td>2</td>\n",
       "      <td>298.2</td>\n",
       "      <td>308.5</td>\n",
       "      <td>2678</td>\n",
       "      <td>10.7</td>\n",
       "      <td>86</td>\n",
       "      <td>1</td>\n",
       "      <td>0</td>\n",
       "      <td>0</td>\n",
       "      <td>1</td>\n",
       "      <td>0</td>\n",
       "      <td>0</td>\n",
       "      <td>-0.164018</td>\n",
       "      <td>-1</td>\n",
       "    </tr>\n",
       "    <tr>\n",
       "      <th>...</th>\n",
       "      <td>...</td>\n",
       "      <td>...</td>\n",
       "      <td>...</td>\n",
       "      <td>...</td>\n",
       "      <td>...</td>\n",
       "      <td>...</td>\n",
       "      <td>...</td>\n",
       "      <td>...</td>\n",
       "      <td>...</td>\n",
       "      <td>...</td>\n",
       "      <td>...</td>\n",
       "      <td>...</td>\n",
       "      <td>...</td>\n",
       "      <td>...</td>\n",
       "      <td>...</td>\n",
       "      <td>...</td>\n",
       "    </tr>\n",
       "    <tr>\n",
       "      <th>9758</th>\n",
       "      <td>9759</td>\n",
       "      <td>L56938</td>\n",
       "      <td>1</td>\n",
       "      <td>298.6</td>\n",
       "      <td>309.8</td>\n",
       "      <td>2271</td>\n",
       "      <td>16.2</td>\n",
       "      <td>218</td>\n",
       "      <td>1</td>\n",
       "      <td>1</td>\n",
       "      <td>0</td>\n",
       "      <td>0</td>\n",
       "      <td>0</td>\n",
       "      <td>0</td>\n",
       "      <td>-0.124791</td>\n",
       "      <td>-1</td>\n",
       "    </tr>\n",
       "    <tr>\n",
       "      <th>9764</th>\n",
       "      <td>9765</td>\n",
       "      <td>L56944</td>\n",
       "      <td>1</td>\n",
       "      <td>298.5</td>\n",
       "      <td>309.5</td>\n",
       "      <td>1294</td>\n",
       "      <td>66.7</td>\n",
       "      <td>12</td>\n",
       "      <td>1</td>\n",
       "      <td>0</td>\n",
       "      <td>0</td>\n",
       "      <td>1</td>\n",
       "      <td>0</td>\n",
       "      <td>0</td>\n",
       "      <td>-0.071870</td>\n",
       "      <td>-1</td>\n",
       "    </tr>\n",
       "    <tr>\n",
       "      <th>9822</th>\n",
       "      <td>9823</td>\n",
       "      <td>L57002</td>\n",
       "      <td>1</td>\n",
       "      <td>298.5</td>\n",
       "      <td>309.4</td>\n",
       "      <td>1360</td>\n",
       "      <td>60.9</td>\n",
       "      <td>187</td>\n",
       "      <td>1</td>\n",
       "      <td>0</td>\n",
       "      <td>0</td>\n",
       "      <td>0</td>\n",
       "      <td>1</td>\n",
       "      <td>0</td>\n",
       "      <td>-0.009006</td>\n",
       "      <td>-1</td>\n",
       "    </tr>\n",
       "    <tr>\n",
       "      <th>9830</th>\n",
       "      <td>9831</td>\n",
       "      <td>L57010</td>\n",
       "      <td>1</td>\n",
       "      <td>298.3</td>\n",
       "      <td>309.3</td>\n",
       "      <td>1337</td>\n",
       "      <td>56.1</td>\n",
       "      <td>206</td>\n",
       "      <td>1</td>\n",
       "      <td>0</td>\n",
       "      <td>0</td>\n",
       "      <td>0</td>\n",
       "      <td>1</td>\n",
       "      <td>0</td>\n",
       "      <td>-0.016256</td>\n",
       "      <td>-1</td>\n",
       "    </tr>\n",
       "    <tr>\n",
       "      <th>9974</th>\n",
       "      <td>9975</td>\n",
       "      <td>L57154</td>\n",
       "      <td>1</td>\n",
       "      <td>298.6</td>\n",
       "      <td>308.2</td>\n",
       "      <td>1361</td>\n",
       "      <td>68.2</td>\n",
       "      <td>172</td>\n",
       "      <td>1</td>\n",
       "      <td>0</td>\n",
       "      <td>0</td>\n",
       "      <td>1</td>\n",
       "      <td>1</td>\n",
       "      <td>0</td>\n",
       "      <td>-0.040465</td>\n",
       "      <td>-1</td>\n",
       "    </tr>\n",
       "  </tbody>\n",
       "</table>\n",
       "<p>219 rows × 16 columns</p>\n",
       "</div>"
      ],
      "text/plain": [
       "       UDI Product ID  Type  Air temperature [K]  Process temperature [K]  \\\n",
       "50      51     L47230     1                298.9                    309.1   \n",
       "69      70     L47249     1                298.9                    309.0   \n",
       "160    161     L47340     1                298.4                    308.2   \n",
       "168    169     L47348     1                298.4                    308.3   \n",
       "194    195     M15054     2                298.2                    308.5   \n",
       "...    ...        ...   ...                  ...                      ...   \n",
       "9758  9759     L56938     1                298.6                    309.8   \n",
       "9764  9765     L56944     1                298.5                    309.5   \n",
       "9822  9823     L57002     1                298.5                    309.4   \n",
       "9830  9831     L57010     1                298.3                    309.3   \n",
       "9974  9975     L57154     1                298.6                    308.2   \n",
       "\n",
       "      Rotational speed [rpm]  Torque [Nm]  Tool wear [min]  Machine failure  \\\n",
       "50                      2861          4.6              143                1   \n",
       "69                      1410         65.7              191                1   \n",
       "160                     1282         60.7              216                1   \n",
       "168                     1433         62.3               20                1   \n",
       "194                     2678         10.7               86                1   \n",
       "...                      ...          ...              ...              ...   \n",
       "9758                    2271         16.2              218                1   \n",
       "9764                    1294         66.7               12                1   \n",
       "9822                    1360         60.9              187                1   \n",
       "9830                    1337         56.1              206                1   \n",
       "9974                    1361         68.2              172                1   \n",
       "\n",
       "      TWF  HDF  PWF  OSF  RNF    scores  anomaly_score  \n",
       "50      0    0    1    0    0 -0.150257             -1  \n",
       "69      0    0    1    1    0 -0.024193             -1  \n",
       "160     0    0    0    1    0 -0.066450             -1  \n",
       "168     0    0    1    0    0 -0.026002             -1  \n",
       "194     0    0    1    0    0 -0.164018             -1  \n",
       "...   ...  ...  ...  ...  ...       ...            ...  \n",
       "9758    1    0    0    0    0 -0.124791             -1  \n",
       "9764    0    0    1    0    0 -0.071870             -1  \n",
       "9822    0    0    0    1    0 -0.009006             -1  \n",
       "9830    0    0    0    1    0 -0.016256             -1  \n",
       "9974    0    0    1    1    0 -0.040465             -1  \n",
       "\n",
       "[219 rows x 16 columns]"
      ]
     },
     "execution_count": 272,
     "metadata": {},
     "output_type": "execute_result"
    }
   ],
   "source": [
    "count[count['Machine failure']==1]"
   ]
  },
  {
   "cell_type": "code",
   "execution_count": 273,
   "id": "f0d03abc",
   "metadata": {},
   "outputs": [
    {
     "data": {
      "text/plain": [
       "Int64Index([   2,   14,   70,  101,  110,  126,  139,  155,  165,  169,\n",
       "            ...\n",
       "            9878, 9882, 9886, 9893, 9912, 9919, 9926, 9939, 9988, 9991],\n",
       "           dtype='int64', length=1781)"
      ]
     },
     "execution_count": 273,
     "metadata": {},
     "output_type": "execute_result"
    }
   ],
   "source": [
    "df[(df['Machine failure']==0) & (df['anomaly_score']==-1)].index"
   ]
  },
  {
   "cell_type": "code",
   "execution_count": 274,
   "id": "a166762b",
   "metadata": {},
   "outputs": [],
   "source": [
    "#dropping outliers where machine faliure is zero\n",
    "droped_df= df.drop(df[(df['Machine failure']==0) & (df['anomaly_score']==-1)].index)"
   ]
  },
  {
   "cell_type": "code",
   "execution_count": 275,
   "id": "1844eca2",
   "metadata": {},
   "outputs": [
    {
     "data": {
      "text/plain": [
       "0    7880\n",
       "1     339\n",
       "Name: Machine failure, dtype: int64"
      ]
     },
     "execution_count": 275,
     "metadata": {},
     "output_type": "execute_result"
    }
   ],
   "source": [
    "droped_df['Machine failure'].value_counts()"
   ]
  },
  {
   "cell_type": "markdown",
   "id": "428dba82",
   "metadata": {},
   "source": [
    "### Balancing the dataset -  Oversampling using SMOTE"
   ]
  },
  {
   "cell_type": "code",
   "execution_count": 276,
   "id": "c2e4b7c1",
   "metadata": {},
   "outputs": [
    {
     "data": {
      "text/html": [
       "<div>\n",
       "<style scoped>\n",
       "    .dataframe tbody tr th:only-of-type {\n",
       "        vertical-align: middle;\n",
       "    }\n",
       "\n",
       "    .dataframe tbody tr th {\n",
       "        vertical-align: top;\n",
       "    }\n",
       "\n",
       "    .dataframe thead th {\n",
       "        text-align: right;\n",
       "    }\n",
       "</style>\n",
       "<table border=\"1\" class=\"dataframe\">\n",
       "  <thead>\n",
       "    <tr style=\"text-align: right;\">\n",
       "      <th></th>\n",
       "      <th>UDI</th>\n",
       "      <th>Product ID</th>\n",
       "      <th>Type</th>\n",
       "      <th>Air temperature [K]</th>\n",
       "      <th>Process temperature [K]</th>\n",
       "      <th>Rotational speed [rpm]</th>\n",
       "      <th>Torque [Nm]</th>\n",
       "      <th>Tool wear [min]</th>\n",
       "      <th>Machine failure</th>\n",
       "      <th>TWF</th>\n",
       "      <th>HDF</th>\n",
       "      <th>PWF</th>\n",
       "      <th>OSF</th>\n",
       "      <th>RNF</th>\n",
       "      <th>scores</th>\n",
       "      <th>anomaly_score</th>\n",
       "    </tr>\n",
       "  </thead>\n",
       "  <tbody>\n",
       "    <tr>\n",
       "      <th>0</th>\n",
       "      <td>1</td>\n",
       "      <td>M14860</td>\n",
       "      <td>2</td>\n",
       "      <td>298.1</td>\n",
       "      <td>308.6</td>\n",
       "      <td>1551</td>\n",
       "      <td>42.8</td>\n",
       "      <td>0</td>\n",
       "      <td>0</td>\n",
       "      <td>0</td>\n",
       "      <td>0</td>\n",
       "      <td>0</td>\n",
       "      <td>0</td>\n",
       "      <td>0</td>\n",
       "      <td>0.014245</td>\n",
       "      <td>1</td>\n",
       "    </tr>\n",
       "    <tr>\n",
       "      <th>1</th>\n",
       "      <td>2</td>\n",
       "      <td>L47181</td>\n",
       "      <td>1</td>\n",
       "      <td>298.2</td>\n",
       "      <td>308.7</td>\n",
       "      <td>1408</td>\n",
       "      <td>46.3</td>\n",
       "      <td>3</td>\n",
       "      <td>0</td>\n",
       "      <td>0</td>\n",
       "      <td>0</td>\n",
       "      <td>0</td>\n",
       "      <td>0</td>\n",
       "      <td>0</td>\n",
       "      <td>0.012442</td>\n",
       "      <td>1</td>\n",
       "    </tr>\n",
       "    <tr>\n",
       "      <th>3</th>\n",
       "      <td>4</td>\n",
       "      <td>L47183</td>\n",
       "      <td>1</td>\n",
       "      <td>298.2</td>\n",
       "      <td>308.6</td>\n",
       "      <td>1433</td>\n",
       "      <td>39.5</td>\n",
       "      <td>7</td>\n",
       "      <td>0</td>\n",
       "      <td>0</td>\n",
       "      <td>0</td>\n",
       "      <td>0</td>\n",
       "      <td>0</td>\n",
       "      <td>0</td>\n",
       "      <td>0.035828</td>\n",
       "      <td>1</td>\n",
       "    </tr>\n",
       "    <tr>\n",
       "      <th>4</th>\n",
       "      <td>5</td>\n",
       "      <td>L47184</td>\n",
       "      <td>1</td>\n",
       "      <td>298.2</td>\n",
       "      <td>308.7</td>\n",
       "      <td>1408</td>\n",
       "      <td>40.0</td>\n",
       "      <td>9</td>\n",
       "      <td>0</td>\n",
       "      <td>0</td>\n",
       "      <td>0</td>\n",
       "      <td>0</td>\n",
       "      <td>0</td>\n",
       "      <td>0</td>\n",
       "      <td>0.032426</td>\n",
       "      <td>1</td>\n",
       "    </tr>\n",
       "    <tr>\n",
       "      <th>5</th>\n",
       "      <td>6</td>\n",
       "      <td>M14865</td>\n",
       "      <td>2</td>\n",
       "      <td>298.1</td>\n",
       "      <td>308.6</td>\n",
       "      <td>1425</td>\n",
       "      <td>41.9</td>\n",
       "      <td>11</td>\n",
       "      <td>0</td>\n",
       "      <td>0</td>\n",
       "      <td>0</td>\n",
       "      <td>0</td>\n",
       "      <td>0</td>\n",
       "      <td>0</td>\n",
       "      <td>0.037558</td>\n",
       "      <td>1</td>\n",
       "    </tr>\n",
       "  </tbody>\n",
       "</table>\n",
       "</div>"
      ],
      "text/plain": [
       "   UDI Product ID  Type  Air temperature [K]  Process temperature [K]  \\\n",
       "0    1     M14860     2                298.1                    308.6   \n",
       "1    2     L47181     1                298.2                    308.7   \n",
       "3    4     L47183     1                298.2                    308.6   \n",
       "4    5     L47184     1                298.2                    308.7   \n",
       "5    6     M14865     2                298.1                    308.6   \n",
       "\n",
       "   Rotational speed [rpm]  Torque [Nm]  Tool wear [min]  Machine failure  TWF  \\\n",
       "0                    1551         42.8                0                0    0   \n",
       "1                    1408         46.3                3                0    0   \n",
       "3                    1433         39.5                7                0    0   \n",
       "4                    1408         40.0                9                0    0   \n",
       "5                    1425         41.9               11                0    0   \n",
       "\n",
       "   HDF  PWF  OSF  RNF    scores  anomaly_score  \n",
       "0    0    0    0    0  0.014245              1  \n",
       "1    0    0    0    0  0.012442              1  \n",
       "3    0    0    0    0  0.035828              1  \n",
       "4    0    0    0    0  0.032426              1  \n",
       "5    0    0    0    0  0.037558              1  "
      ]
     },
     "execution_count": 276,
     "metadata": {},
     "output_type": "execute_result"
    }
   ],
   "source": [
    "droped_df.head()"
   ]
  },
  {
   "cell_type": "code",
   "execution_count": 277,
   "id": "fb3870c0",
   "metadata": {},
   "outputs": [],
   "source": [
    "from imblearn.over_sampling import SMOTE"
   ]
  },
  {
   "cell_type": "code",
   "execution_count": 278,
   "id": "e04e9c87",
   "metadata": {},
   "outputs": [
    {
     "name": "stdout",
     "output_type": "stream",
     "text": [
      "(8219, 11) (8219,)\n"
     ]
    }
   ],
   "source": [
    "X=droped_df.iloc[:,[2,3,4,5,6,7,9,10,11,12,13]]\n",
    "y=droped_df.iloc[:,8]\n",
    "print(X.shape,y.shape)"
   ]
  },
  {
   "cell_type": "code",
   "execution_count": 279,
   "id": "a1f7a0a3",
   "metadata": {},
   "outputs": [],
   "source": [
    "smote = SMOTE(sampling_strategy='auto', random_state=42, k_neighbors=3)\n",
    "\n",
    "x_smote, y_smote = smote.fit_resample(X, y)"
   ]
  },
  {
   "cell_type": "code",
   "execution_count": 280,
   "id": "5325caa8",
   "metadata": {},
   "outputs": [],
   "source": [
    "from collections import Counter"
   ]
  },
  {
   "cell_type": "code",
   "execution_count": 281,
   "id": "5e78f647",
   "metadata": {},
   "outputs": [
    {
     "name": "stdout",
     "output_type": "stream",
     "text": [
      "Original dataset shape Counter({0: 7880, 1: 339})\n",
      "Resample dataset shape Counter({0: 7880, 1: 7880})\n"
     ]
    }
   ],
   "source": [
    "print('Original dataset shape', Counter(y))\n",
    "print('Resample dataset shape', Counter(y_smote))"
   ]
  },
  {
   "cell_type": "code",
   "execution_count": 282,
   "id": "29068624",
   "metadata": {},
   "outputs": [
    {
     "data": {
      "text/html": [
       "<div>\n",
       "<style scoped>\n",
       "    .dataframe tbody tr th:only-of-type {\n",
       "        vertical-align: middle;\n",
       "    }\n",
       "\n",
       "    .dataframe tbody tr th {\n",
       "        vertical-align: top;\n",
       "    }\n",
       "\n",
       "    .dataframe thead th {\n",
       "        text-align: right;\n",
       "    }\n",
       "</style>\n",
       "<table border=\"1\" class=\"dataframe\">\n",
       "  <thead>\n",
       "    <tr style=\"text-align: right;\">\n",
       "      <th></th>\n",
       "      <th>Type</th>\n",
       "      <th>Air temperature [K]</th>\n",
       "      <th>Process temperature [K]</th>\n",
       "      <th>Rotational speed [rpm]</th>\n",
       "      <th>Torque [Nm]</th>\n",
       "      <th>Tool wear [min]</th>\n",
       "      <th>TWF</th>\n",
       "      <th>HDF</th>\n",
       "      <th>PWF</th>\n",
       "      <th>OSF</th>\n",
       "      <th>RNF</th>\n",
       "      <th>Machine failure</th>\n",
       "    </tr>\n",
       "  </thead>\n",
       "  <tbody>\n",
       "    <tr>\n",
       "      <th>0</th>\n",
       "      <td>2</td>\n",
       "      <td>298.1</td>\n",
       "      <td>308.6</td>\n",
       "      <td>1551</td>\n",
       "      <td>42.8</td>\n",
       "      <td>0</td>\n",
       "      <td>0</td>\n",
       "      <td>0</td>\n",
       "      <td>0</td>\n",
       "      <td>0</td>\n",
       "      <td>0</td>\n",
       "      <td>0</td>\n",
       "    </tr>\n",
       "    <tr>\n",
       "      <th>1</th>\n",
       "      <td>1</td>\n",
       "      <td>298.2</td>\n",
       "      <td>308.7</td>\n",
       "      <td>1408</td>\n",
       "      <td>46.3</td>\n",
       "      <td>3</td>\n",
       "      <td>0</td>\n",
       "      <td>0</td>\n",
       "      <td>0</td>\n",
       "      <td>0</td>\n",
       "      <td>0</td>\n",
       "      <td>0</td>\n",
       "    </tr>\n",
       "    <tr>\n",
       "      <th>2</th>\n",
       "      <td>1</td>\n",
       "      <td>298.2</td>\n",
       "      <td>308.6</td>\n",
       "      <td>1433</td>\n",
       "      <td>39.5</td>\n",
       "      <td>7</td>\n",
       "      <td>0</td>\n",
       "      <td>0</td>\n",
       "      <td>0</td>\n",
       "      <td>0</td>\n",
       "      <td>0</td>\n",
       "      <td>0</td>\n",
       "    </tr>\n",
       "    <tr>\n",
       "      <th>3</th>\n",
       "      <td>1</td>\n",
       "      <td>298.2</td>\n",
       "      <td>308.7</td>\n",
       "      <td>1408</td>\n",
       "      <td>40.0</td>\n",
       "      <td>9</td>\n",
       "      <td>0</td>\n",
       "      <td>0</td>\n",
       "      <td>0</td>\n",
       "      <td>0</td>\n",
       "      <td>0</td>\n",
       "      <td>0</td>\n",
       "    </tr>\n",
       "    <tr>\n",
       "      <th>4</th>\n",
       "      <td>2</td>\n",
       "      <td>298.1</td>\n",
       "      <td>308.6</td>\n",
       "      <td>1425</td>\n",
       "      <td>41.9</td>\n",
       "      <td>11</td>\n",
       "      <td>0</td>\n",
       "      <td>0</td>\n",
       "      <td>0</td>\n",
       "      <td>0</td>\n",
       "      <td>0</td>\n",
       "      <td>0</td>\n",
       "    </tr>\n",
       "  </tbody>\n",
       "</table>\n",
       "</div>"
      ],
      "text/plain": [
       "   Type  Air temperature [K]  Process temperature [K]  Rotational speed [rpm]  \\\n",
       "0     2                298.1                    308.6                    1551   \n",
       "1     1                298.2                    308.7                    1408   \n",
       "2     1                298.2                    308.6                    1433   \n",
       "3     1                298.2                    308.7                    1408   \n",
       "4     2                298.1                    308.6                    1425   \n",
       "\n",
       "   Torque [Nm]  Tool wear [min]  TWF  HDF  PWF  OSF  RNF  Machine failure  \n",
       "0         42.8                0    0    0    0    0    0                0  \n",
       "1         46.3                3    0    0    0    0    0                0  \n",
       "2         39.5                7    0    0    0    0    0                0  \n",
       "3         40.0                9    0    0    0    0    0                0  \n",
       "4         41.9               11    0    0    0    0    0                0  "
      ]
     },
     "execution_count": 282,
     "metadata": {},
     "output_type": "execute_result"
    }
   ],
   "source": [
    "processed_df = x_smote\n",
    "processed_df['Machine failure'] = y_smote\n",
    "processed_df.head()"
   ]
  },
  {
   "cell_type": "markdown",
   "id": "3865da74",
   "metadata": {},
   "source": [
    "### Checking for originality of data"
   ]
  },
  {
   "cell_type": "markdown",
   "id": "a117ed85",
   "metadata": {},
   "source": [
    "##### 1. Distribution of Type  "
   ]
  },
  {
   "cell_type": "code",
   "execution_count": 283,
   "id": "8e102d07",
   "metadata": {},
   "outputs": [
    {
     "name": "stdout",
     "output_type": "stream",
     "text": [
      "The distribution of \"Type\" in original data:\n",
      " 1    60.0 %\n",
      "2    30.0 %\n",
      "0    10.0 %\n",
      "Name: Type, dtype: object\n",
      "\n",
      "The distribution of \"Type\" in processed data:\n",
      " 1    70.6 %\n",
      "2    18.8 %\n",
      "0    10.6 %\n",
      "Name: Type, dtype: object\n"
     ]
    }
   ],
   "source": [
    "o_type = df['Type'].value_counts(normalize=True)\n",
    "p_type = processed_df['Type'].value_counts(normalize=True)\n",
    "\n",
    "print('The distribution of \"Type\" in original data:\\n',o_type.mul(100).round(1).astype(str)+' %')\n",
    "print('\\nThe distribution of \"Type\" in processed data:\\n',p_type.mul(100).round(1).astype(str)+' %')"
   ]
  },
  {
   "cell_type": "code",
   "execution_count": 284,
   "id": "8bfd765e",
   "metadata": {},
   "outputs": [
    {
     "data": {
      "text/plain": [
       "<AxesSubplot:title={'center':'Processed Data'}>"
      ]
     },
     "execution_count": 284,
     "metadata": {},
     "output_type": "execute_result"
    },
    {
     "data": {
      "image/png": "[encoded data removed]",
      "text/plain": [
       "<Figure size 864x360 with 2 Axes>"
      ]
     },
     "metadata": {
      "needs_background": "light"
     },
     "output_type": "display_data"
    }
   ],
   "source": [
    "plt.figure(figsize=(12,5))\n",
    "plt.subplot(1,2,1)\n",
    "plt.title('Original Data')\n",
    "o_type.plot(kind='bar')\n",
    "plt.subplot(1,2,2)\n",
    "plt.title('Processed Data')\n",
    "p_type.plot(kind='bar')"
   ]
  },
  {
   "cell_type": "markdown",
   "id": "088481c2",
   "metadata": {},
   "source": [
    "##### 2. Comparison on Mean and Standard Deviation "
   ]
  },
  {
   "cell_type": "code",
   "execution_count": 285,
   "id": "e6fa9c44",
   "metadata": {},
   "outputs": [
    {
     "data": {
      "text/html": [
       "<div>\n",
       "<style scoped>\n",
       "    .dataframe tbody tr th:only-of-type {\n",
       "        vertical-align: middle;\n",
       "    }\n",
       "\n",
       "    .dataframe tbody tr th {\n",
       "        vertical-align: top;\n",
       "    }\n",
       "\n",
       "    .dataframe thead th {\n",
       "        text-align: right;\n",
       "    }\n",
       "</style>\n",
       "<table border=\"1\" class=\"dataframe\">\n",
       "  <thead>\n",
       "    <tr style=\"text-align: right;\">\n",
       "      <th></th>\n",
       "      <th>Original Mean</th>\n",
       "      <th>Processed Mean</th>\n",
       "      <th>Original SD</th>\n",
       "      <th>Processed SD</th>\n",
       "    </tr>\n",
       "  </thead>\n",
       "  <tbody>\n",
       "    <tr>\n",
       "      <th>Air temperature [K]</th>\n",
       "      <td>300.00493</td>\n",
       "      <td>300.382584</td>\n",
       "      <td>2.000259</td>\n",
       "      <td>1.817434</td>\n",
       "    </tr>\n",
       "    <tr>\n",
       "      <th>Process temperature [K]</th>\n",
       "      <td>310.00556</td>\n",
       "      <td>310.108000</td>\n",
       "      <td>1.483734</td>\n",
       "      <td>1.196008</td>\n",
       "    </tr>\n",
       "    <tr>\n",
       "      <th>Rotational speed [rpm]</th>\n",
       "      <td>1538.77610</td>\n",
       "      <td>1505.183122</td>\n",
       "      <td>179.284096</td>\n",
       "      <td>282.058889</td>\n",
       "    </tr>\n",
       "    <tr>\n",
       "      <th>Torque [Nm]</th>\n",
       "      <td>39.98691</td>\n",
       "      <td>45.191974</td>\n",
       "      <td>9.968934</td>\n",
       "      <td>13.404266</td>\n",
       "    </tr>\n",
       "    <tr>\n",
       "      <th>Tool wear [min]</th>\n",
       "      <td>107.95100</td>\n",
       "      <td>126.024492</td>\n",
       "      <td>63.654147</td>\n",
       "      <td>68.722324</td>\n",
       "    </tr>\n",
       "  </tbody>\n",
       "</table>\n",
       "</div>"
      ],
      "text/plain": [
       "                         Original Mean  Processed Mean  Original SD  \\\n",
       "Air temperature [K]          300.00493      300.382584     2.000259   \n",
       "Process temperature [K]      310.00556      310.108000     1.483734   \n",
       "Rotational speed [rpm]      1538.77610     1505.183122   179.284096   \n",
       "Torque [Nm]                   39.98691       45.191974     9.968934   \n",
       "Tool wear [min]              107.95100      126.024492    63.654147   \n",
       "\n",
       "                         Processed SD  \n",
       "Air temperature [K]          1.817434  \n",
       "Process temperature [K]      1.196008  \n",
       "Rotational speed [rpm]     282.058889  \n",
       "Torque [Nm]                 13.404266  \n",
       "Tool wear [min]             68.722324  "
      ]
     },
     "execution_count": 285,
     "metadata": {},
     "output_type": "execute_result"
    }
   ],
   "source": [
    "mean_std = pd.DataFrame()\n",
    "\n",
    "mean_std['Original Mean'] = df[['Air temperature [K]','Process temperature [K]','Rotational speed [rpm]',\n",
    "           'Torque [Nm]','Tool wear [min]']].mean()\n",
    "mean_std['Processed Mean'] = processed_df[['Air temperature [K]','Process temperature [K]','Rotational speed [rpm]',\n",
    "           'Torque [Nm]','Tool wear [min]']].mean()\n",
    "mean_std['Original SD'] = df[['Air temperature [K]','Process temperature [K]','Rotational speed [rpm]',\n",
    "           'Torque [Nm]','Tool wear [min]']].std()\n",
    "mean_std['Processed SD'] = processed_df[['Air temperature [K]','Process temperature [K]','Rotational speed [rpm]',\n",
    "           'Torque [Nm]','Tool wear [min]']].std()\n",
    "\n",
    "mean_std"
   ]
  },
  {
   "cell_type": "markdown",
   "id": "397d217a",
   "metadata": {},
   "source": [
    "##### 3. Distribution of failure types "
   ]
  },
  {
   "cell_type": "code",
   "execution_count": 286,
   "id": "e465cee1",
   "metadata": {},
   "outputs": [],
   "source": [
    "o_pie={'TWF': df.TWF.sum(), 'HDF':df.HDF.sum(), 'PWF':df.PWF.sum(), 'OSF': df.OSF.sum(), 'RNF': df.RNF.sum()}\n",
    "p_pie={'TWF': processed_df.TWF.sum(), 'HDF':processed_df.HDF.sum(), 'PWF':processed_df.PWF.sum(), 'OSF': processed_df.OSF.sum(), 'RNF': processed_df.RNF.sum()}"
   ]
  },
  {
   "cell_type": "code",
   "execution_count": 287,
   "id": "4208eaa3",
   "metadata": {},
   "outputs": [
    {
     "data": {
      "image/png": "[encoded data removed]",
      "text/plain": [
       "<Figure size 864x360 with 2 Axes>"
      ]
     },
     "metadata": {},
     "output_type": "display_data"
    }
   ],
   "source": [
    "plt.figure(figsize=(12,5))\n",
    "plt.subplot(1,2,1)\n",
    "plt.title('Original Data')\n",
    "plt.pie(o_pie.values(),labels=o_pie.keys(),autopct='%1.1f%%');\n",
    "plt.subplot(1,2,2)\n",
    "plt.title('Processed Data')\n",
    "plt.pie(p_pie.values(),labels=p_pie.keys(),autopct='%1.1f%%');"
   ]
  },
  {
   "cell_type": "code",
   "execution_count": 288,
   "id": "55e17a16",
   "metadata": {},
   "outputs": [
    {
     "data": {
      "text/html": [
       "<div>\n",
       "<style scoped>\n",
       "    .dataframe tbody tr th:only-of-type {\n",
       "        vertical-align: middle;\n",
       "    }\n",
       "\n",
       "    .dataframe tbody tr th {\n",
       "        vertical-align: top;\n",
       "    }\n",
       "\n",
       "    .dataframe thead th {\n",
       "        text-align: right;\n",
       "    }\n",
       "</style>\n",
       "<table border=\"1\" class=\"dataframe\">\n",
       "  <thead>\n",
       "    <tr style=\"text-align: right;\">\n",
       "      <th></th>\n",
       "      <th>Type</th>\n",
       "      <th>Air temperature [K]</th>\n",
       "      <th>Process temperature [K]</th>\n",
       "      <th>Rotational speed [rpm]</th>\n",
       "      <th>Torque [Nm]</th>\n",
       "      <th>Tool wear [min]</th>\n",
       "      <th>TWF</th>\n",
       "      <th>HDF</th>\n",
       "      <th>PWF</th>\n",
       "      <th>OSF</th>\n",
       "      <th>RNF</th>\n",
       "      <th>Machine failure</th>\n",
       "    </tr>\n",
       "  </thead>\n",
       "  <tbody>\n",
       "    <tr>\n",
       "      <th>0</th>\n",
       "      <td>2</td>\n",
       "      <td>298.1</td>\n",
       "      <td>308.6</td>\n",
       "      <td>1551</td>\n",
       "      <td>42.8</td>\n",
       "      <td>0</td>\n",
       "      <td>0</td>\n",
       "      <td>0</td>\n",
       "      <td>0</td>\n",
       "      <td>0</td>\n",
       "      <td>0</td>\n",
       "      <td>0</td>\n",
       "    </tr>\n",
       "    <tr>\n",
       "      <th>1</th>\n",
       "      <td>1</td>\n",
       "      <td>298.2</td>\n",
       "      <td>308.7</td>\n",
       "      <td>1408</td>\n",
       "      <td>46.3</td>\n",
       "      <td>3</td>\n",
       "      <td>0</td>\n",
       "      <td>0</td>\n",
       "      <td>0</td>\n",
       "      <td>0</td>\n",
       "      <td>0</td>\n",
       "      <td>0</td>\n",
       "    </tr>\n",
       "    <tr>\n",
       "      <th>2</th>\n",
       "      <td>1</td>\n",
       "      <td>298.2</td>\n",
       "      <td>308.6</td>\n",
       "      <td>1433</td>\n",
       "      <td>39.5</td>\n",
       "      <td>7</td>\n",
       "      <td>0</td>\n",
       "      <td>0</td>\n",
       "      <td>0</td>\n",
       "      <td>0</td>\n",
       "      <td>0</td>\n",
       "      <td>0</td>\n",
       "    </tr>\n",
       "    <tr>\n",
       "      <th>3</th>\n",
       "      <td>1</td>\n",
       "      <td>298.2</td>\n",
       "      <td>308.7</td>\n",
       "      <td>1408</td>\n",
       "      <td>40.0</td>\n",
       "      <td>9</td>\n",
       "      <td>0</td>\n",
       "      <td>0</td>\n",
       "      <td>0</td>\n",
       "      <td>0</td>\n",
       "      <td>0</td>\n",
       "      <td>0</td>\n",
       "    </tr>\n",
       "    <tr>\n",
       "      <th>4</th>\n",
       "      <td>2</td>\n",
       "      <td>298.1</td>\n",
       "      <td>308.6</td>\n",
       "      <td>1425</td>\n",
       "      <td>41.9</td>\n",
       "      <td>11</td>\n",
       "      <td>0</td>\n",
       "      <td>0</td>\n",
       "      <td>0</td>\n",
       "      <td>0</td>\n",
       "      <td>0</td>\n",
       "      <td>0</td>\n",
       "    </tr>\n",
       "  </tbody>\n",
       "</table>\n",
       "</div>"
      ],
      "text/plain": [
       "   Type  Air temperature [K]  Process temperature [K]  Rotational speed [rpm]  \\\n",
       "0     2                298.1                    308.6                    1551   \n",
       "1     1                298.2                    308.7                    1408   \n",
       "2     1                298.2                    308.6                    1433   \n",
       "3     1                298.2                    308.7                    1408   \n",
       "4     2                298.1                    308.6                    1425   \n",
       "\n",
       "   Torque [Nm]  Tool wear [min]  TWF  HDF  PWF  OSF  RNF  Machine failure  \n",
       "0         42.8                0    0    0    0    0    0                0  \n",
       "1         46.3                3    0    0    0    0    0                0  \n",
       "2         39.5                7    0    0    0    0    0                0  \n",
       "3         40.0                9    0    0    0    0    0                0  \n",
       "4         41.9               11    0    0    0    0    0                0  "
      ]
     },
     "execution_count": 288,
     "metadata": {},
     "output_type": "execute_result"
    }
   ],
   "source": [
    "processed_df.head()"
   ]
  },
  {
   "cell_type": "code",
   "execution_count": 289,
   "id": "b350ef1e",
   "metadata": {},
   "outputs": [],
   "source": [
    "#renaming the column names\n",
    "processed_df.rename(columns={'Air temperature [K]': 'Air_temp',\n",
    "                             'Process temperature [K]': 'Process_temp',\n",
    "                            'Rotational speed [rpm]': 'RPM',\n",
    "                            'Torque [Nm]': 'Torque',\n",
    "                            'Tool wear [min]': 'Tool_wear',\n",
    "                            'Machine failure': 'Machine_failure',}, inplace=True)"
   ]
  },
  {
   "cell_type": "markdown",
   "id": "a9fcc307",
   "metadata": {},
   "source": [
    "### Model Building"
   ]
  },
  {
   "cell_type": "markdown",
   "id": "de25d11a",
   "metadata": {},
   "source": [
    "##### Train Test split "
   ]
  },
  {
   "cell_type": "code",
   "execution_count": 290,
   "id": "423bce42",
   "metadata": {},
   "outputs": [],
   "source": [
    "# Splitting predictor and target variables\n",
    "X=processed_df.iloc[:,:6]\n",
    "y=processed_df.iloc[:,11]"
   ]
  },
  {
   "cell_type": "code",
   "execution_count": 291,
   "id": "55bddb9b",
   "metadata": {},
   "outputs": [],
   "source": [
    "X_train, X_test, y_train, y_test = train_test_split(X, y, test_size=0.2, random_state=0)"
   ]
  },
  {
   "cell_type": "markdown",
   "id": "db7dec3b",
   "metadata": {},
   "source": [
    "#### 1. Logistic Regression "
   ]
  },
  {
   "cell_type": "code",
   "execution_count": 292,
   "id": "bbdb313e",
   "metadata": {},
   "outputs": [],
   "source": [
    "LR_model=LogisticRegression()\n",
    "LR_model = LR_model.fit(X_train, y_train)\n",
    "LR_model_cv = LR_model.fit(X, y)"
   ]
  },
  {
   "cell_type": "code",
   "execution_count": 293,
   "id": "9a15caf6",
   "metadata": {},
   "outputs": [],
   "source": [
    "#prediction \n",
    "LR_train_pred = LR_model.predict(X_train)\n",
    "LR_test_pred = LR_model.predict(X_test)\n",
    "LR_full_pred = LR_model.predict(X)"
   ]
  },
  {
   "cell_type": "markdown",
   "id": "a4b1e262",
   "metadata": {},
   "source": [
    "#### 2. Decision Tree Classifier"
   ]
  },
  {
   "cell_type": "code",
   "execution_count": 294,
   "id": "f9df426e",
   "metadata": {},
   "outputs": [],
   "source": [
    "#decision tree classifier\n",
    "DT = DecisionTreeClassifier(random_state=12)\n",
    "model_dt = DT.fit(X_train,y_train)\n",
    "model_dt_cv = DT.fit(X,y)"
   ]
  },
  {
   "cell_type": "code",
   "execution_count": 295,
   "id": "2ee824bf",
   "metadata": {},
   "outputs": [],
   "source": [
    "#prediction \n",
    "DT_train_pred = model_dt.predict(X_train)\n",
    "DT_test_pred = model_dt.predict(X_test)\n",
    "DT_full_pred = model_dt.predict(X)"
   ]
  },
  {
   "cell_type": "markdown",
   "id": "9b070d35",
   "metadata": {},
   "source": [
    "#### 3. Random Forest "
   ]
  },
  {
   "cell_type": "code",
   "execution_count": 296,
   "id": "21332e18",
   "metadata": {},
   "outputs": [],
   "source": [
    "#rf = RandomForestClassifier(max_depth = 2,random_state=1)\n",
    "rf = RandomForestClassifier(n_estimators=25, min_samples_split=25, \\\n",
    "                            max_depth=5,random_state=72)\n",
    "model_rf = rf.fit(X_train,y_train)\n",
    "model_rf_cv = rf.fit(X,y)"
   ]
  },
  {
   "cell_type": "code",
   "execution_count": 297,
   "id": "ee314a9e",
   "metadata": {},
   "outputs": [],
   "source": [
    "#prediction \n",
    "RF_train_pred = model_rf.predict(X_train)\n",
    "RF_test_pred = model_rf.predict(X_test)\n",
    "RF_full_pred = model_rf.predict(X)"
   ]
  },
  {
   "cell_type": "markdown",
   "id": "310d11ec",
   "metadata": {},
   "source": [
    "#### 4. Gaussian Naive Bayes"
   ]
  },
  {
   "cell_type": "code",
   "execution_count": 298,
   "id": "f946a6e6",
   "metadata": {},
   "outputs": [],
   "source": [
    "gnb = GaussianNB()\n",
    "modelgnb = gnb.fit(X_train,y_train)\n",
    "modelgnb_cv = gnb.fit(X,y)"
   ]
  },
  {
   "cell_type": "code",
   "execution_count": 299,
   "id": "0bd18a7e",
   "metadata": {},
   "outputs": [],
   "source": [
    "#prediction \n",
    "GNB_train_pred = modelgnb.predict(X_train)\n",
    "GNB_test_pred = modelgnb.predict(X_test)\n",
    "GNB_full_pred = modelgnb.predict(X)"
   ]
  },
  {
   "cell_type": "markdown",
   "id": "441ee0f8",
   "metadata": {},
   "source": [
    "#### 5. SVM"
   ]
  },
  {
   "cell_type": "markdown",
   "id": "922f7e2f",
   "metadata": {},
   "source": [
    "modelsvc = SVC(kernel='linear')\n",
    "modelsvc = modelsvc.fit(X_train,y_train)\n",
    "modelsvc_cv = modelsvc.fit(X,y)"
   ]
  },
  {
   "cell_type": "markdown",
   "id": "a27be723",
   "metadata": {},
   "source": [
    "#prediction \n",
    "SVC_train_pred = modelsvc.predict(X_train)\n",
    "SVC_test_pred = modelsvc.predict(X_test)\n",
    "SVC_full_pred = modelsvc.predict(X)"
   ]
  },
  {
   "cell_type": "markdown",
   "id": "bf6f2c0a",
   "metadata": {},
   "source": [
    "#### 6. 2nd Method Random Forest"
   ]
  },
  {
   "cell_type": "code",
   "execution_count": 300,
   "id": "19c3925f",
   "metadata": {},
   "outputs": [],
   "source": [
    "classifier_R = RandomForestClassifier(n_estimators = 10, criterion = 'entropy', random_state = 0)\n",
    "classifier_R = classifier_R.fit(X_train, y_train)\n",
    "classifier_R_cv = classifier_R.fit(X, y)"
   ]
  },
  {
   "cell_type": "code",
   "execution_count": 301,
   "id": "6f13e9d4",
   "metadata": {},
   "outputs": [],
   "source": [
    "#prediction \n",
    "RF2_train_pred = classifier_R.predict(X_train)\n",
    "RF2_test_pred = classifier_R.predict(X_test)\n",
    "RF2_full_pred = classifier_R.predict(X)"
   ]
  },
  {
   "cell_type": "markdown",
   "id": "498ab4fe",
   "metadata": {},
   "source": [
    "#### 7. ANN"
   ]
  },
  {
   "cell_type": "markdown",
   "id": "696580b8",
   "metadata": {},
   "source": [
    "import keras\n",
    "from keras.models import Sequential\n",
    "from keras.layers import Dense"
   ]
  },
  {
   "cell_type": "markdown",
   "id": "4087343f",
   "metadata": {},
   "source": [
    "print(X_train.shape, y_test.shape)"
   ]
  },
  {
   "cell_type": "markdown",
   "id": "b9035983",
   "metadata": {},
   "source": [
    "classifier_A = Sequential()"
   ]
  },
  {
   "cell_type": "markdown",
   "id": "89167766",
   "metadata": {},
   "source": [
    "classifier_A.add(Dense(8, kernel_initializer = 'uniform', activation = 'relu', input_dim = 6))\n",
    "classifier_A.add(Dense(4, kernel_initializer = 'uniform', activation = 'relu'))\n",
    "classifier_A.add(Dense(1,kernel_initializer = 'uniform', activation = 'sigmoid'))"
   ]
  },
  {
   "cell_type": "markdown",
   "id": "7282e199",
   "metadata": {},
   "source": [
    "classifier_A.compile(optimizer = 'adam', loss = 'binary_crossentropy', metrics = ['accuracy'])\n",
    "classifier_A.summary()"
   ]
  },
  {
   "cell_type": "markdown",
   "id": "b7e073cc",
   "metadata": {},
   "source": [
    "Model_A = classifier_A.fit(X_train, y_train, batch_size = 1000, epochs = 100, shuffle = False)"
   ]
  },
  {
   "cell_type": "markdown",
   "id": "2706ac11",
   "metadata": {},
   "source": [
    "#prediction \n",
    "ANN_train_pred = classifier_A.predict(X_train)\n",
    "ANN_train_pred = (ANN_train_pred > 0.5)\n",
    "ANN_test_pred = classifier_A.predict(X_test)\n",
    "ANN_test_pred = (ANN_test_pred > 0.5)\n",
    "ANN_full_pred = classifier_A.predict(X)\n",
    "ANN_full_pred = (ANN_full_pred > 0.5)"
   ]
  },
  {
   "cell_type": "markdown",
   "id": "7fc5163d",
   "metadata": {},
   "source": [
    "Classifier_A_cv= Sequential()\n",
    "Classifier_A_cv.add(Dense(8, kernel_initializer = 'uniform', activation = 'relu', input_dim = 6))\n",
    "Classifier_A_cv.add(Dense(4, kernel_initializer = 'uniform', activation = 'relu'))\n",
    "Classifier_A_cv.add(Dense(1,kernel_initializer = 'uniform', activation = 'sigmoid'))"
   ]
  },
  {
   "cell_type": "markdown",
   "id": "ed94551b",
   "metadata": {},
   "source": [
    "Classifier_A_cv.compile(optimizer = 'adam', loss = 'binary_crossentropy', metrics = ['accuracy'])\n",
    "Classifier_A_cv.summary()"
   ]
  },
  {
   "cell_type": "markdown",
   "id": "116efd78",
   "metadata": {},
   "source": [
    "classifier_A_cv = Classifier_A_cv.fit(X, y, batch_size = 1000, epochs = 100, shuffle = False)"
   ]
  },
  {
   "cell_type": "code",
   "execution_count": null,
   "id": "16a7674e",
   "metadata": {},
   "outputs": [],
   "source": []
  },
  {
   "cell_type": "markdown",
   "id": "76a8c21c",
   "metadata": {},
   "source": [
    "#### 8. XGB Boost"
   ]
  },
  {
   "cell_type": "code",
   "execution_count": 302,
   "id": "ff0b9ee5",
   "metadata": {},
   "outputs": [],
   "source": [
    "params={\n",
    " 'learning_rate'    : [0.05, 0.10, 0.15, 0.20, 0.25, 0.30 ] ,\n",
    " 'max_depth'        : [ 3, 4, 5, 6, 8, 10, 12, 15],\n",
    " 'min_child_weight' : [ 1, 3, 5, 7 ],\n",
    " 'gamma'            : [ 0.0, 0.1, 0.2 , 0.3, 0.4 ],\n",
    " 'colsample_bytree' : [ 0.3, 0.4, 0.5 , 0.7 ]\n",
    "    }"
   ]
  },
  {
   "cell_type": "code",
   "execution_count": 303,
   "id": "d67bdffa",
   "metadata": {
    "scrolled": true
   },
   "outputs": [],
   "source": [
    "## Hyperparameter optimization using RandomizedSearchCV\n",
    "from sklearn.model_selection import RandomizedSearchCV, GridSearchCV\n",
    "import xgboost"
   ]
  },
  {
   "cell_type": "code",
   "execution_count": 304,
   "id": "e395eb9e",
   "metadata": {},
   "outputs": [],
   "source": [
    "classifier_X=xgboost.XGBClassifier()"
   ]
  },
  {
   "cell_type": "code",
   "execution_count": 305,
   "id": "a4588295",
   "metadata": {},
   "outputs": [],
   "source": [
    "random_search=RandomizedSearchCV(classifier_X, param_distributions=params, n_iter=5,scoring='roc_auc',n_jobs=-1,cv=5,verbose=3)"
   ]
  },
  {
   "cell_type": "code",
   "execution_count": 306,
   "id": "0d7173f3",
   "metadata": {},
   "outputs": [
    {
     "name": "stdout",
     "output_type": "stream",
     "text": [
      "Fitting 5 folds for each of 5 candidates, totalling 25 fits\n",
      "[17:07:43] WARNING: C:/Users/Administrator/workspace/xgboost-win64_release_1.4.0/src/learner.cc:1095: Starting in XGBoost 1.3.0, the default evaluation metric used with the objective 'binary:logistic' was changed from 'error' to 'logloss'. Explicitly set eval_metric if you'd like to restore the old behavior.\n"
     ]
    },
    {
     "data": {
      "text/plain": [
       "RandomizedSearchCV(cv=5,\n",
       "                   estimator=XGBClassifier(base_score=None, booster=None,\n",
       "                                           colsample_bylevel=None,\n",
       "                                           colsample_bynode=None,\n",
       "                                           colsample_bytree=None, gamma=None,\n",
       "                                           gpu_id=None, importance_type='gain',\n",
       "                                           interaction_constraints=None,\n",
       "                                           learning_rate=None,\n",
       "                                           max_delta_step=None, max_depth=None,\n",
       "                                           min_child_weight=None, missing=nan,\n",
       "                                           monotone_constraints=None,\n",
       "                                           n_estimators=100,...\n",
       "                                           reg_lambda=None,\n",
       "                                           scale_pos_weight=None,\n",
       "                                           subsample=None, tree_method=None,\n",
       "                                           validate_parameters=None,\n",
       "                                           verbosity=None),\n",
       "                   n_iter=5, n_jobs=-1,\n",
       "                   param_distributions={'colsample_bytree': [0.3, 0.4, 0.5,\n",
       "                                                             0.7],\n",
       "                                        'gamma': [0.0, 0.1, 0.2, 0.3, 0.4],\n",
       "                                        'learning_rate': [0.05, 0.1, 0.15, 0.2,\n",
       "                                                          0.25, 0.3],\n",
       "                                        'max_depth': [3, 4, 5, 6, 8, 10, 12,\n",
       "                                                      15],\n",
       "                                        'min_child_weight': [1, 3, 5, 7]},\n",
       "                   scoring='roc_auc', verbose=3)"
      ]
     },
     "execution_count": 306,
     "metadata": {},
     "output_type": "execute_result"
    }
   ],
   "source": [
    "random_search.fit(X_train,y_train)"
   ]
  },
  {
   "cell_type": "code",
   "execution_count": 307,
   "id": "5dd5bfc6",
   "metadata": {},
   "outputs": [
    {
     "data": {
      "text/plain": [
       "XGBClassifier(base_score=0.5, booster='gbtree', colsample_bylevel=1,\n",
       "              colsample_bynode=1, colsample_bytree=0.4, gamma=0.2, gpu_id=-1,\n",
       "              importance_type='gain', interaction_constraints='',\n",
       "              learning_rate=0.25, max_delta_step=0, max_depth=12,\n",
       "              min_child_weight=5, missing=nan, monotone_constraints='()',\n",
       "              n_estimators=100, n_jobs=4, num_parallel_tree=1, random_state=0,\n",
       "              reg_alpha=0, reg_lambda=1, scale_pos_weight=1, subsample=1,\n",
       "              tree_method='exact', validate_parameters=1, verbosity=None)"
      ]
     },
     "execution_count": 307,
     "metadata": {},
     "output_type": "execute_result"
    }
   ],
   "source": [
    "random_search.best_estimator_"
   ]
  },
  {
   "cell_type": "code",
   "execution_count": 308,
   "id": "3176fe9e",
   "metadata": {},
   "outputs": [
    {
     "data": {
      "text/plain": [
       "{'min_child_weight': 5,\n",
       " 'max_depth': 12,\n",
       " 'learning_rate': 0.25,\n",
       " 'gamma': 0.2,\n",
       " 'colsample_bytree': 0.4}"
      ]
     },
     "execution_count": 308,
     "metadata": {},
     "output_type": "execute_result"
    }
   ],
   "source": [
    "random_search.best_params_"
   ]
  },
  {
   "cell_type": "code",
   "execution_count": 309,
   "id": "207e5553",
   "metadata": {},
   "outputs": [],
   "source": [
    "classifier_X=xgboost.XGBClassifier(base_score=0.5, booster='gbtree', colsample_bylevel=1,\n",
    "              colsample_bynode=1, colsample_bytree=0.7, gamma=0.4, gpu_id=-1,\n",
    "              importance_type='gain', interaction_constraints='',\n",
    "              learning_rate=0.25, max_delta_step=0, max_depth=15,\n",
    "              min_child_weight=3, monotone_constraints='()',\n",
    "              n_estimators=100, n_jobs=12, num_parallel_tree=1, random_state=0,\n",
    "              reg_alpha=0, reg_lambda=1, scale_pos_weight=1, subsample=1,\n",
    "              tree_method='exact', validate_parameters=1, verbosity=None)"
   ]
  },
  {
   "cell_type": "code",
   "execution_count": 310,
   "id": "469930ac",
   "metadata": {},
   "outputs": [
    {
     "name": "stdout",
     "output_type": "stream",
     "text": [
      "[17:07:45] WARNING: C:/Users/Administrator/workspace/xgboost-win64_release_1.4.0/src/learner.cc:1095: Starting in XGBoost 1.3.0, the default evaluation metric used with the objective 'binary:logistic' was changed from 'error' to 'logloss'. Explicitly set eval_metric if you'd like to restore the old behavior.\n",
      "[17:07:47] WARNING: C:/Users/Administrator/workspace/xgboost-win64_release_1.4.0/src/learner.cc:1095: Starting in XGBoost 1.3.0, the default evaluation metric used with the objective 'binary:logistic' was changed from 'error' to 'logloss'. Explicitly set eval_metric if you'd like to restore the old behavior.\n"
     ]
    }
   ],
   "source": [
    "classifier_X = classifier_X.fit(X_train,y_train)\n",
    "classifier_X_cv = classifier_X.fit(X,y)"
   ]
  },
  {
   "cell_type": "code",
   "execution_count": 311,
   "id": "692b5fdd",
   "metadata": {},
   "outputs": [],
   "source": [
    "#prediction \n",
    "XGB_train_pred = classifier_X.predict(X_train)\n",
    "XGB_test_pred = classifier_X.predict(X_test)\n",
    "XGB_full_pred = classifier_X.predict(X)"
   ]
  },
  {
   "cell_type": "markdown",
   "id": "4a4b865d",
   "metadata": {},
   "source": [
    "### Model Evaluation"
   ]
  },
  {
   "cell_type": "code",
   "execution_count": 312,
   "id": "91227d54",
   "metadata": {},
   "outputs": [],
   "source": [
    "from sklearn.metrics import accuracy_score\n",
    "from sklearn.model_selection import cross_val_score"
   ]
  },
  {
   "cell_type": "markdown",
   "id": "39d893e0",
   "metadata": {},
   "source": [
    "#### 1. Logistic Regression "
   ]
  },
  {
   "cell_type": "code",
   "execution_count": 313,
   "id": "ece336be",
   "metadata": {},
   "outputs": [
    {
     "name": "stdout",
     "output_type": "stream",
     "text": [
      "0.8407360406091371\n"
     ]
    }
   ],
   "source": [
    "#train_test evaluation\n",
    "LR_train_score = accuracy_score(y_train,LR_train_pred)\n",
    "LR_test_score = accuracy_score(y_test,LR_test_pred)\n",
    "LR_full_score = accuracy_score(y,LR_full_pred)\n",
    "\n",
    "print(LR_test_score)"
   ]
  },
  {
   "cell_type": "code",
   "execution_count": 314,
   "id": "11710bb4",
   "metadata": {},
   "outputs": [],
   "source": [
    "# cross validation\n",
    "LR_cv=cross_val_score(LR_model_cv,X,y,cv=10)\n",
    "LR_cv = LR_cv.mean()"
   ]
  },
  {
   "cell_type": "markdown",
   "id": "ef54e053",
   "metadata": {},
   "source": [
    "#### 2. Decision Tree Classifier"
   ]
  },
  {
   "cell_type": "code",
   "execution_count": 315,
   "id": "f38a0cf5",
   "metadata": {},
   "outputs": [
    {
     "name": "stdout",
     "output_type": "stream",
     "text": [
      "1.0\n"
     ]
    }
   ],
   "source": [
    "DT_train_score = accuracy_score(y_train,DT_train_pred)\n",
    "DT_test_score = accuracy_score(y_test,DT_test_pred)\n",
    "DT_full_score = accuracy_score(y,DT_full_pred)\n",
    "\n",
    "print(DT_test_score)"
   ]
  },
  {
   "cell_type": "code",
   "execution_count": 316,
   "id": "4e6194d9",
   "metadata": {},
   "outputs": [],
   "source": [
    "# cross validation\n",
    "DT_cv=cross_val_score(model_dt_cv,X,y,cv=10)\n",
    "DT_cv = DT_cv.mean()"
   ]
  },
  {
   "cell_type": "markdown",
   "id": "e1b4ce22",
   "metadata": {},
   "source": [
    "#### 3. Random Forest "
   ]
  },
  {
   "cell_type": "code",
   "execution_count": 317,
   "id": "3ccbfd7a",
   "metadata": {},
   "outputs": [
    {
     "name": "stdout",
     "output_type": "stream",
     "text": [
      "0.9511421319796954\n"
     ]
    }
   ],
   "source": [
    "RF_train_score = accuracy_score(y_train,RF_train_pred)\n",
    "RF_test_score = accuracy_score(y_test,RF_test_pred)\n",
    "RF_full_score = accuracy_score(y,RF_full_pred)\n",
    "\n",
    "print(RF_test_score)"
   ]
  },
  {
   "cell_type": "code",
   "execution_count": 318,
   "id": "fa9e304b",
   "metadata": {},
   "outputs": [],
   "source": [
    "# cross validation\n",
    "RF_cv=cross_val_score(model_dt_cv,X,y,cv=10)\n",
    "RF_cv = RF_cv.mean()"
   ]
  },
  {
   "cell_type": "markdown",
   "id": "7e4f318c",
   "metadata": {},
   "source": [
    "#### 4. Gaussian Naive Bayes "
   ]
  },
  {
   "cell_type": "code",
   "execution_count": 319,
   "id": "1c72351f",
   "metadata": {},
   "outputs": [
    {
     "name": "stdout",
     "output_type": "stream",
     "text": [
      "0.8692893401015228\n"
     ]
    }
   ],
   "source": [
    "GNB_train_score = accuracy_score(y_train,GNB_train_pred)\n",
    "GNB_test_score = accuracy_score(y_test,GNB_test_pred)\n",
    "GNB_full_score = accuracy_score(y,GNB_full_pred)\n",
    "\n",
    "print(GNB_test_score)"
   ]
  },
  {
   "cell_type": "code",
   "execution_count": 320,
   "id": "3d87a9a5",
   "metadata": {},
   "outputs": [],
   "source": [
    "# cross validation\n",
    "GNB_cv=cross_val_score(modelgnb_cv,X,y,cv=10)\n",
    "GNB_cv = GNB_cv.mean()"
   ]
  },
  {
   "cell_type": "markdown",
   "id": "ff528048",
   "metadata": {},
   "source": [
    "#### 5. SVM "
   ]
  },
  {
   "cell_type": "markdown",
   "id": "6aa0d845",
   "metadata": {},
   "source": [
    "SVC_train_score = accuracy_score(y_train,SVC_train_pred)\n",
    "SVC_test_score = accuracy_score(y_test,SVC_test_pred)\n",
    "SVC_full_score = accuracy_score(y,SVC_full_pred)\n",
    "\n",
    "print(SVC_test_score)"
   ]
  },
  {
   "cell_type": "markdown",
   "id": "f7fcabc7",
   "metadata": {},
   "source": [
    "# cross validation\n",
    "SVC_cv=cross_val_score(modelsvc_cv,X,y,cv=10)\n",
    "SVC_cv = SVC_cv.mean()"
   ]
  },
  {
   "cell_type": "markdown",
   "id": "b57f80d2",
   "metadata": {},
   "source": [
    "#### 6. Random Forest 2 "
   ]
  },
  {
   "cell_type": "code",
   "execution_count": 322,
   "id": "4050a484",
   "metadata": {},
   "outputs": [
    {
     "name": "stdout",
     "output_type": "stream",
     "text": [
      "0.9996827411167513\n"
     ]
    }
   ],
   "source": [
    "RF2_train_score = accuracy_score(y_train,RF2_train_pred)\n",
    "RF2_test_score = accuracy_score(y_test,RF2_test_pred)\n",
    "RF2_full_score = accuracy_score(y,RF2_full_pred)\n",
    "\n",
    "print(RF2_test_score)"
   ]
  },
  {
   "cell_type": "code",
   "execution_count": 323,
   "id": "a36e562a",
   "metadata": {},
   "outputs": [],
   "source": [
    "# cross validation\n",
    "RF2_cv=cross_val_score(classifier_R_cv,X,y,cv=10)\n",
    "RF2_cv = RF2_cv.mean()"
   ]
  },
  {
   "cell_type": "markdown",
   "id": "55ec6505",
   "metadata": {},
   "source": [
    "#### 7. ANN "
   ]
  },
  {
   "cell_type": "markdown",
   "id": "9f54bcb4",
   "metadata": {},
   "source": [
    "ANN_train_score = accuracy_score(y_train,ANN_train_pred)\n",
    "ANN_test_score = accuracy_score(y_test,ANN_test_pred)\n",
    "ANN_full_score = accuracy_score(y,ANN_full_pred)\n",
    "\n",
    "print(ANN_test_score)"
   ]
  },
  {
   "cell_type": "markdown",
   "id": "140ec267",
   "metadata": {},
   "source": [
    "# cross validation\n",
    "ANN_cv=cross_val_score(classifier_A_cv,X,y,cv=10)\n",
    "ANN_cv = ANN_cv.mean()"
   ]
  },
  {
   "cell_type": "markdown",
   "id": "96c8451f",
   "metadata": {},
   "source": [
    "#### 8. XGBoost "
   ]
  },
  {
   "cell_type": "code",
   "execution_count": 324,
   "id": "1dd984b6",
   "metadata": {},
   "outputs": [
    {
     "name": "stdout",
     "output_type": "stream",
     "text": [
      "1.0\n"
     ]
    }
   ],
   "source": [
    "XGB_train_score = accuracy_score(y_train,XGB_train_pred)\n",
    "XGB_test_score = accuracy_score(y_test,XGB_test_pred)\n",
    "XGB_full_score = accuracy_score(y,XGB_full_pred)\n",
    "\n",
    "print(XGB_test_score)"
   ]
  },
  {
   "cell_type": "code",
   "execution_count": 325,
   "id": "d0d0e589",
   "metadata": {},
   "outputs": [
    {
     "name": "stdout",
     "output_type": "stream",
     "text": [
      "[17:08:34] WARNING: C:/Users/Administrator/workspace/xgboost-win64_release_1.4.0/src/learner.cc:1095: Starting in XGBoost 1.3.0, the default evaluation metric used with the objective 'binary:logistic' was changed from 'error' to 'logloss'. Explicitly set eval_metric if you'd like to restore the old behavior.\n",
      "[17:08:36] WARNING: C:/Users/Administrator/workspace/xgboost-win64_release_1.4.0/src/learner.cc:1095: Starting in XGBoost 1.3.0, the default evaluation metric used with the objective 'binary:logistic' was changed from 'error' to 'logloss'. Explicitly set eval_metric if you'd like to restore the old behavior.\n",
      "[17:08:37] WARNING: C:/Users/Administrator/workspace/xgboost-win64_release_1.4.0/src/learner.cc:1095: Starting in XGBoost 1.3.0, the default evaluation metric used with the objective 'binary:logistic' was changed from 'error' to 'logloss'. Explicitly set eval_metric if you'd like to restore the old behavior.\n",
      "[17:08:39] WARNING: C:/Users/Administrator/workspace/xgboost-win64_release_1.4.0/src/learner.cc:1095: Starting in XGBoost 1.3.0, the default evaluation metric used with the objective 'binary:logistic' was changed from 'error' to 'logloss'. Explicitly set eval_metric if you'd like to restore the old behavior.\n",
      "[17:08:41] WARNING: C:/Users/Administrator/workspace/xgboost-win64_release_1.4.0/src/learner.cc:1095: Starting in XGBoost 1.3.0, the default evaluation metric used with the objective 'binary:logistic' was changed from 'error' to 'logloss'. Explicitly set eval_metric if you'd like to restore the old behavior.\n",
      "[17:08:43] WARNING: C:/Users/Administrator/workspace/xgboost-win64_release_1.4.0/src/learner.cc:1095: Starting in XGBoost 1.3.0, the default evaluation metric used with the objective 'binary:logistic' was changed from 'error' to 'logloss'. Explicitly set eval_metric if you'd like to restore the old behavior.\n",
      "[17:08:45] WARNING: C:/Users/Administrator/workspace/xgboost-win64_release_1.4.0/src/learner.cc:1095: Starting in XGBoost 1.3.0, the default evaluation metric used with the objective 'binary:logistic' was changed from 'error' to 'logloss'. Explicitly set eval_metric if you'd like to restore the old behavior.\n",
      "[17:08:46] WARNING: C:/Users/Administrator/workspace/xgboost-win64_release_1.4.0/src/learner.cc:1095: Starting in XGBoost 1.3.0, the default evaluation metric used with the objective 'binary:logistic' was changed from 'error' to 'logloss'. Explicitly set eval_metric if you'd like to restore the old behavior.\n",
      "[17:08:48] WARNING: C:/Users/Administrator/workspace/xgboost-win64_release_1.4.0/src/learner.cc:1095: Starting in XGBoost 1.3.0, the default evaluation metric used with the objective 'binary:logistic' was changed from 'error' to 'logloss'. Explicitly set eval_metric if you'd like to restore the old behavior.\n",
      "[17:08:50] WARNING: C:/Users/Administrator/workspace/xgboost-win64_release_1.4.0/src/learner.cc:1095: Starting in XGBoost 1.3.0, the default evaluation metric used with the objective 'binary:logistic' was changed from 'error' to 'logloss'. Explicitly set eval_metric if you'd like to restore the old behavior.\n"
     ]
    }
   ],
   "source": [
    "# cross validation\n",
    "XGB_cv=cross_val_score(classifier_X_cv,X,y,cv=10)\n",
    "XGB_cv = XGB_cv.mean()"
   ]
  },
  {
   "cell_type": "markdown",
   "id": "69da077a",
   "metadata": {},
   "source": [
    "##### Comparison in DataFrame "
   ]
  },
  {
   "cell_type": "code",
   "execution_count": 329,
   "id": "447afdd3",
   "metadata": {},
   "outputs": [],
   "source": [
    "Evaluation = pd.DataFrame({'Models': ['Logistic Regression','Decision Tree','Random Forest','Gaussian NB',\n",
    "                                      #'SVM',\n",
    "                                      'Random Forest 2',#'ANN',\n",
    "                                      'XGBoost'],\n",
    "                     'Train Score': [LR_train_score,DT_train_score,RF_train_score,GNB_train_score,\n",
    "                                     #SVC_train_score,\n",
    "                                     RF2_train_score,#ANN_train_score,\n",
    "                                     XGB_train_score],\n",
    "                     'Test Score': [LR_test_score,DT_test_score,RF_test_score,GNB_test_score,\n",
    "                                    #SVC_test_score,\n",
    "                                    RF2_test_score,#ANN_test_score,\n",
    "                                    XGB_test_score],\n",
    "                     'Full Data Score': [LR_full_score,DT_full_score,RF_full_score,GNB_full_score,\n",
    "                                         #SVC_full_score,\n",
    "                                         RF2_full_score,#ANN_full_score,\n",
    "                                         XGB_full_score],\n",
    "})"
   ]
  },
  {
   "cell_type": "code",
   "execution_count": 330,
   "id": "60871351",
   "metadata": {},
   "outputs": [
    {
     "data": {
      "text/html": [
       "<div>\n",
       "<style scoped>\n",
       "    .dataframe tbody tr th:only-of-type {\n",
       "        vertical-align: middle;\n",
       "    }\n",
       "\n",
       "    .dataframe tbody tr th {\n",
       "        vertical-align: top;\n",
       "    }\n",
       "\n",
       "    .dataframe thead th {\n",
       "        text-align: right;\n",
       "    }\n",
       "</style>\n",
       "<table border=\"1\" class=\"dataframe\">\n",
       "  <thead>\n",
       "    <tr style=\"text-align: right;\">\n",
       "      <th></th>\n",
       "      <th>Models</th>\n",
       "      <th>Train Score</th>\n",
       "      <th>Test Score</th>\n",
       "      <th>Full Data Score</th>\n",
       "    </tr>\n",
       "  </thead>\n",
       "  <tbody>\n",
       "    <tr>\n",
       "      <th>0</th>\n",
       "      <td>Logistic Regression</td>\n",
       "      <td>0.835977</td>\n",
       "      <td>0.840736</td>\n",
       "      <td>0.836929</td>\n",
       "    </tr>\n",
       "    <tr>\n",
       "      <th>1</th>\n",
       "      <td>Decision Tree</td>\n",
       "      <td>1.000000</td>\n",
       "      <td>1.000000</td>\n",
       "      <td>1.000000</td>\n",
       "    </tr>\n",
       "    <tr>\n",
       "      <th>2</th>\n",
       "      <td>Random Forest</td>\n",
       "      <td>0.952490</td>\n",
       "      <td>0.951142</td>\n",
       "      <td>0.952221</td>\n",
       "    </tr>\n",
       "    <tr>\n",
       "      <th>3</th>\n",
       "      <td>Gaussian NB</td>\n",
       "      <td>0.866434</td>\n",
       "      <td>0.869289</td>\n",
       "      <td>0.867005</td>\n",
       "    </tr>\n",
       "    <tr>\n",
       "      <th>4</th>\n",
       "      <td>Random Forest 2</td>\n",
       "      <td>0.999286</td>\n",
       "      <td>0.999683</td>\n",
       "      <td>0.999365</td>\n",
       "    </tr>\n",
       "    <tr>\n",
       "      <th>5</th>\n",
       "      <td>XGBoost</td>\n",
       "      <td>1.000000</td>\n",
       "      <td>1.000000</td>\n",
       "      <td>1.000000</td>\n",
       "    </tr>\n",
       "  </tbody>\n",
       "</table>\n",
       "</div>"
      ],
      "text/plain": [
       "                Models  Train Score  Test Score  Full Data Score\n",
       "0  Logistic Regression     0.835977    0.840736         0.836929\n",
       "1        Decision Tree     1.000000    1.000000         1.000000\n",
       "2        Random Forest     0.952490    0.951142         0.952221\n",
       "3          Gaussian NB     0.866434    0.869289         0.867005\n",
       "4      Random Forest 2     0.999286    0.999683         0.999365\n",
       "5              XGBoost     1.000000    1.000000         1.000000"
      ]
     },
     "execution_count": 330,
     "metadata": {},
     "output_type": "execute_result"
    }
   ],
   "source": [
    "\n",
    "Evaluation"
   ]
  },
  {
   "cell_type": "code",
   "execution_count": 331,
   "id": "d4af9fda",
   "metadata": {},
   "outputs": [
    {
     "data": {
      "text/plain": [
       "Text(0.5, 1.0, 'Accuracy of models')"
      ]
     },
     "execution_count": 331,
     "metadata": {},
     "output_type": "execute_result"
    },
    {
     "data": {
      "image/png": "[encoded data removed]",
      "text/plain": [
       "<Figure size 720x288 with 1 Axes>"
      ]
     },
     "metadata": {
      "needs_background": "light"
     },
     "output_type": "display_data"
    }
   ],
   "source": [
    "Evaluation.plot(x='Models', kind='bar', stacked=False, figsize=(10,4))\n",
    "plt.title('Accuracy of models')"
   ]
  },
  {
   "cell_type": "code",
   "execution_count": 332,
   "id": "ef2c14aa",
   "metadata": {},
   "outputs": [],
   "source": [
    "Evaluation.to_excel('Evaluation.xlsx')"
   ]
  },
  {
   "cell_type": "code",
   "execution_count": 334,
   "id": "dba93c7e",
   "metadata": {},
   "outputs": [],
   "source": [
    "cross_val = pd.DataFrame({'Models': ['Logistic Regression','Decision Tree','Random Forest','Gaussian NB',\n",
    "                                      #'SVM',\n",
    "                                      'Random Forest 2',#'ANN',\n",
    "                                     'XGBoost'],\n",
    "                         'Cross Validation': [LR_cv,DT_cv,RF_cv,GNB_cv,\n",
    "                                     #SVC_cv,\n",
    "                                     RF2_cv,#ANN_cv,\n",
    "                                              XGB_cv]})"
   ]
  },
  {
   "cell_type": "code",
   "execution_count": 335,
   "id": "02c74c4a",
   "metadata": {},
   "outputs": [
    {
     "data": {
      "text/plain": [
       "Text(0.5, 1.0, 'Accuracy of models')"
      ]
     },
     "execution_count": 335,
     "metadata": {},
     "output_type": "execute_result"
    },
    {
     "data": {
      "image/png": "[encoded data removed]",
      "text/plain": [
       "<Figure size 720x288 with 1 Axes>"
      ]
     },
     "metadata": {
      "needs_background": "light"
     },
     "output_type": "display_data"
    }
   ],
   "source": [
    "cross_val.plot(x='Models', kind='bar', figsize=(10,4))\n",
    "plt.title('Accuracy of models')"
   ]
  }
 ],
 "metadata": {
  "kernelspec": {
   "display_name": "Python 3",
   "language": "python",
   "name": "python3"
  },
  "language_info": {
   "codemirror_mode": {
    "name": "ipython",
    "version": 3
   },
   "file_extension": ".py",
   "mimetype": "text/x-python",
   "name": "python",
   "nbconvert_exporter": "python",
   "pygments_lexer": "ipython3",
   "version": "3.8.8"
  }
 },
 "nbformat": 4,
 "nbformat_minor": 5
}
